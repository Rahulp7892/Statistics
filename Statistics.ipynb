{
  "nbformat": 4,
  "nbformat_minor": 0,
  "metadata": {
    "colab": {
      "provenance": []
    },
    "kernelspec": {
      "name": "python3",
      "display_name": "Python 3"
    },
    "language_info": {
      "name": "python"
    }
  },
  "cells": [
    {
      "cell_type": "code",
      "execution_count": null,
      "metadata": {
        "id": "wnxv5mE12utb"
      },
      "outputs": [],
      "source": [
        "#Q.1 Generate a list of 100 integers containing values between 90 to 130 and store it in the variable 'int_list'.After generating the list,find the following:"
      ]
    },
    {
      "cell_type": "code",
      "source": [
        "#(i) Write a python function to calculate the mean of a given list of numbers.Create a function to find the median of a list of numbers."
      ],
      "metadata": {
        "id": "arjPO16Y02US"
      },
      "execution_count": null,
      "outputs": []
    },
    {
      "cell_type": "code",
      "source": [
        "# 1. Mean of a List of Numbers:\n",
        "# The mean is the sum of the numbers divided by the count of numbers."
      ],
      "metadata": {
        "id": "j5hpvsBN6Xgw"
      },
      "execution_count": null,
      "outputs": []
    },
    {
      "cell_type": "code",
      "source": [
        "def calculate_mean(numbers):\n",
        "    if not numbers:\n",
        "        return 0\n",
        "    return sum(numbers) / len(numbers)"
      ],
      "metadata": {
        "id": "d0gIsaLL6Y9G"
      },
      "execution_count": null,
      "outputs": []
    },
    {
      "cell_type": "code",
      "source": [
        "# 2. Median of a List of Numbers:\n",
        "# The median is the middle value when the numbers are sorted in order. If the list has an odd number of elements, the median is the middle one. If the list has an even number of elements, the median is the average of the two middle values."
      ],
      "metadata": {
        "id": "1-UwriOb6bzJ"
      },
      "execution_count": null,
      "outputs": []
    },
    {
      "cell_type": "code",
      "source": [
        "def calculate_median(numbers):\n",
        "    if not numbers:\n",
        "        return None\n",
        "\n",
        "    sorted_numbers = sorted(numbers)\n",
        "\n",
        "    n = len(sorted_numbers)\n",
        "    mid = n // 2\n",
        "\n",
        "    if n % 2 == 1:\n",
        "        return sorted_numbers[mid]\n",
        "    else:\n",
        "        return (sorted_numbers[mid - 1] + sorted_numbers[mid]) / 2"
      ],
      "metadata": {
        "id": "NmWZTgM_6fdm"
      },
      "execution_count": null,
      "outputs": []
    },
    {
      "cell_type": "code",
      "source": [
        "numbers = [3, 1, 4, 1, 5, 9, 2, 6, 5, 3, 5]\n",
        "\n",
        "mean = calculate_mean(numbers)\n",
        "median = calculate_median(numbers)\n",
        "\n",
        "print(\"Mean:\", mean)\n",
        "print(\"Median:\", median)"
      ],
      "metadata": {
        "id": "q_DDUZNp6rWO"
      },
      "execution_count": null,
      "outputs": []
    },
    {
      "cell_type": "code",
      "source": [
        "# Explanation:\n",
        "# Mean Calculation:\n",
        "\n",
        "# sum(numbers) adds up all the numbers in the list.\n",
        "# len(numbers) gives the count of numbers in the list.\n",
        "# Dividing the sum by the length of the list gives the mean.\n",
        "# Median Calculation:\n",
        "\n",
        "# First, we sort the list of numbers using sorted().\n",
        "# If the list has an odd number of elements, the middle number is the median.\n",
        "# If the list has an even number of elements, the median is the average of the two middle numbers."
      ],
      "metadata": {
        "id": "Njp21neG6uhZ"
      },
      "execution_count": null,
      "outputs": []
    },
    {
      "cell_type": "code",
      "source": [
        "Mean: 4.090909090909091\n",
        "Median: 5"
      ],
      "metadata": {
        "id": "ihzyC2W76x9t"
      },
      "execution_count": null,
      "outputs": []
    },
    {
      "cell_type": "code",
      "source": [
        "#(ii) Develop a program to compute the mode of a list of integers."
      ],
      "metadata": {
        "id": "mcWxBjIs7KPQ"
      },
      "execution_count": null,
      "outputs": []
    },
    {
      "cell_type": "code",
      "source": [
        "# The mode of a list of numbers is the number that appears most frequently. If there are multiple numbers that appear the most number of times, the list may have more than one mode (i.e., it can be multimodal). If no number repeats, the list has no mode.\n",
        "\n",
        "# Here's a Python program to compute the mode of a list of integers:"
      ],
      "metadata": {
        "id": "bfozGU_77tet"
      },
      "execution_count": null,
      "outputs": []
    },
    {
      "cell_type": "code",
      "source": [
        "# Mode Calculation:\n",
        "# We can use a dictionary to count the occurrences of each number, then identify the number(s) with the highest count."
      ],
      "metadata": {
        "id": "1EgS1bDr8AWF"
      },
      "execution_count": null,
      "outputs": []
    },
    {
      "cell_type": "code",
      "source": [
        "from collections import Counter\n",
        "\n",
        "def calculate_mode(numbers):\n",
        "    if not numbers:\n",
        "        return None\n",
        "\n",
        "    counts = Counter(numbers)\n",
        "\n",
        "    max_freq = max(counts.values())\n",
        "\n",
        "    modes = [num for num, freq in counts.items() if freq == max_freq]\n",
        "\n",
        "    return modes"
      ],
      "metadata": {
        "id": "FqZTIj9p8DHz"
      },
      "execution_count": null,
      "outputs": []
    },
    {
      "cell_type": "code",
      "source": [
        "numbers = [1, 2, 3, 3, 4, 5, 6, 3, 4, 7, 8, 9, 10, 5, 5]\n",
        "\n",
        "mode = calculate_mode(numbers)\n",
        "\n",
        "print(\"Mode:\", mode)"
      ],
      "metadata": {
        "colab": {
          "base_uri": "https://localhost:8080/"
        },
        "id": "sLlhqtfC8Np2",
        "outputId": "4b1a2c2b-bd72-4109-ed41-b48535890826"
      },
      "execution_count": null,
      "outputs": [
        {
          "output_type": "stream",
          "name": "stdout",
          "text": [
            "Mode: [3, 5]\n"
          ]
        }
      ]
    },
    {
      "cell_type": "code",
      "source": [
        "numbers = [1, 1 ,2 , 3]\n",
        "\n",
        "mode = calculate_mode(numbers)\n",
        "\n",
        "print(\"Mode:\",mode)"
      ],
      "metadata": {
        "colab": {
          "base_uri": "https://localhost:8080/"
        },
        "id": "tf-JaD028YAa",
        "outputId": "afa3f8d7-8f93-45b3-8c3c-f29b0ff6431e"
      },
      "execution_count": null,
      "outputs": [
        {
          "output_type": "stream",
          "name": "stdout",
          "text": [
            "Mode: [1]\n"
          ]
        }
      ]
    },
    {
      "cell_type": "code",
      "source": [
        "numbers = [1,2,3,4,5]\n",
        "mode = calculate_mode(numbers)\n",
        "print(\"Mode:\",mode)"
      ],
      "metadata": {
        "colab": {
          "base_uri": "https://localhost:8080/"
        },
        "id": "9owuLqXw83sE",
        "outputId": "db332d8c-df5a-42d1-e044-f24fb23e37f1"
      },
      "execution_count": null,
      "outputs": [
        {
          "output_type": "stream",
          "name": "stdout",
          "text": [
            "Mode: [1, 2, 3, 4, 5]\n"
          ]
        }
      ]
    },
    {
      "cell_type": "code",
      "source": [
        "#(iii) Implement a function to calculate the weighted mean of a list of values and their corresponding weights."
      ],
      "metadata": {
        "id": "3BLDlt-h-LOy"
      },
      "execution_count": null,
      "outputs": []
    },
    {
      "cell_type": "code",
      "source": [
        "def weighted_mean(values, weights):\n",
        "    if len(values) != len(weights):\n",
        "        raise ValueError(\"The number of values and weights must be the same.\")\n",
        "\n",
        "    weighted_sum = sum(x * w for x, w in zip(values, weights))\n",
        "\n",
        "    total_weight = sum(weights)\n",
        "\n",
        "    if total_weight == 0:\n",
        "        raise ValueError(\"The sum of weights cannot be zero.\")\n",
        "\n",
        "    return weighted_sum / total_weight"
      ],
      "metadata": {
        "id": "i4eCGhl6YP0E"
      },
      "execution_count": null,
      "outputs": []
    },
    {
      "cell_type": "code",
      "source": [
        "values = [4, 5, 6]\n",
        "weights = [1, 2, 3]\n",
        "\n",
        "result = weighted_mean(values, weights)\n",
        "print(\"Weighted Mean:\", result)"
      ],
      "metadata": {
        "colab": {
          "base_uri": "https://localhost:8080/"
        },
        "id": "QV4ZHNxdYcPY",
        "outputId": "194d514a-827b-4a60-9847-ec244029719d"
      },
      "execution_count": null,
      "outputs": [
        {
          "output_type": "stream",
          "name": "stdout",
          "text": [
            "Weighted Mean: 5.333333333333333\n"
          ]
        }
      ]
    },
    {
      "cell_type": "code",
      "source": [
        "#(iv) Write a Python function to find the geometric mean of a list of positive numbers."
      ],
      "metadata": {
        "id": "X5BG1m1eYe5B"
      },
      "execution_count": null,
      "outputs": []
    },
    {
      "cell_type": "code",
      "source": [
        "import math\n",
        "\n",
        "def geometric_mean(values):\n",
        "    if any(x <= 0 for x in values):\n",
        "        raise ValueError(\"All values must be positive.\")\n",
        "    product = 1\n",
        "    for value in values:\n",
        "        product *= value\n",
        "\n",
        "    n = len(values)\n",
        "    return product ** (1 / n)"
      ],
      "metadata": {
        "id": "sakg6cohY0QR"
      },
      "execution_count": null,
      "outputs": []
    },
    {
      "cell_type": "code",
      "source": [
        "values = [4, 16, 64]\n",
        "result = geometric_mean(values)\n",
        "print(\"Geometric Mean:\", result)"
      ],
      "metadata": {
        "colab": {
          "base_uri": "https://localhost:8080/"
        },
        "id": "KqSPjXF_ZFFq",
        "outputId": "10836421-c897-4912-c7a2-bde1c6aa5e1e"
      },
      "execution_count": null,
      "outputs": [
        {
          "output_type": "stream",
          "name": "stdout",
          "text": [
            "Geometric Mean: 15.999999999999998\n"
          ]
        }
      ]
    },
    {
      "cell_type": "code",
      "source": [
        "import math\n",
        "\n",
        "def geometric_mean(values):\n",
        "    if any(x <= 0 for x in values):\n",
        "        raise ValueError(\"All values must be positive.\")\n",
        "    product = math.prod(values)\n",
        "\n",
        "    return product ** (1 / len(values))"
      ],
      "metadata": {
        "id": "HNu7Qh8JZT7X"
      },
      "execution_count": null,
      "outputs": []
    },
    {
      "cell_type": "code",
      "source": [
        "#(v) Create a program to calculate the harmonic mean of a list of values."
      ],
      "metadata": {
        "id": "UdpI6ZD_Zavv"
      },
      "execution_count": null,
      "outputs": []
    },
    {
      "cell_type": "code",
      "source": [
        "def harmonic_mean(values):\n",
        "    if any(x <= 0 for x in values):\n",
        "        raise ValueError(\"All values must be positive.\")\n",
        "\n",
        "    reciprocal_sum = sum(1 / x for x in values)\n",
        "\n",
        "    n = len(values)\n",
        "    return n / reciprocal_sum"
      ],
      "metadata": {
        "id": "-RFNuYxbZ9OQ"
      },
      "execution_count": null,
      "outputs": []
    },
    {
      "cell_type": "code",
      "source": [
        "# Explanation:\n",
        "# Input Check: The function checks that all values are positive. Harmonic mean calculation is not valid for non-positive numbers, so if any value is zero or negative, it raises a ValueError.\n",
        "# Reciprocal Sum: It calculates the sum of the reciprocals of the values using a generator expression inside the sum function.\n",
        "# Harmonic Mean Calculation: The harmonic mean is computed by dividing the number of values\n",
        "# 𝑛\n",
        "# n by the sum of the reciprocals."
      ],
      "metadata": {
        "id": "pnjzv4gMaIQB"
      },
      "execution_count": null,
      "outputs": []
    },
    {
      "cell_type": "code",
      "source": [
        "values = [1, 2, 4]\n",
        "result = harmonic_mean(values)\n",
        "print(\"Harmonic Mean:\", result)"
      ],
      "metadata": {
        "colab": {
          "base_uri": "https://localhost:8080/"
        },
        "id": "77FCesiqaNXm",
        "outputId": "ca03ddbf-09b5-4403-9b0b-01de620cc107"
      },
      "execution_count": null,
      "outputs": [
        {
          "output_type": "stream",
          "name": "stdout",
          "text": [
            "Harmonic Mean: 1.7142857142857142\n"
          ]
        }
      ]
    },
    {
      "cell_type": "code",
      "source": [
        "# Example with equal values:"
      ],
      "metadata": {
        "id": "RXL3AOG_amO5"
      },
      "execution_count": null,
      "outputs": []
    },
    {
      "cell_type": "code",
      "source": [
        "values = [5, 5, 5]\n",
        "result = harmonic_mean(values)\n",
        "print(\"Harmonic Mean:\", result)"
      ],
      "metadata": {
        "colab": {
          "base_uri": "https://localhost:8080/"
        },
        "id": "aOQ7cPGIaqa0",
        "outputId": "b3ce941c-d893-4aae-dfa5-6febd76d6bec"
      },
      "execution_count": null,
      "outputs": [
        {
          "output_type": "stream",
          "name": "stdout",
          "text": [
            "Harmonic Mean: 4.999999999999999\n"
          ]
        }
      ]
    },
    {
      "cell_type": "code",
      "source": [
        "#(vi) Build a function to determine the midrange of a list of numbers (average of the minimum and maximum)."
      ],
      "metadata": {
        "id": "maHneJBTbePW"
      },
      "execution_count": null,
      "outputs": []
    },
    {
      "cell_type": "code",
      "source": [
        "def midrange(numbers):\n",
        "    \"\"\"\n",
        "    Calculate the midrange of a list of numbers.\n",
        "\n",
        "    Midrange is the average of the minimum and maximum values.\n",
        "\n",
        "    Args:\n",
        "        numbers (list): A list of numbers.\n",
        "\n",
        "    Returns:\n",
        "        float: The midrange of the numbers.\n",
        "\n",
        "    Raises:\n",
        "        ValueError: If the list is empty.\n",
        "    \"\"\"\n",
        "    if not numbers:\n",
        "        raise ValueError(\"The list of numbers cannot be empty.\")\n",
        "\n",
        "    minimum = min(numbers)\n",
        "    maximum = max(numbers)\n",
        "\n",
        "    return (minimum + maximum) / 2\n",
        "\n",
        "# Example usage:\n",
        "numbers = [10, 20, 30, 40, 50]\n",
        "print(\"Midrange:\", midrange(numbers))"
      ],
      "metadata": {
        "colab": {
          "base_uri": "https://localhost:8080/"
        },
        "id": "Qh2eyl0bA9C6",
        "outputId": "1a823195-b449-402f-f229-485a4ab3518a"
      },
      "execution_count": null,
      "outputs": [
        {
          "output_type": "stream",
          "name": "stdout",
          "text": [
            "Midrange: 30.0\n"
          ]
        }
      ]
    },
    {
      "cell_type": "code",
      "source": [
        "#(vii) Implement a Python program to find the trimmed mean of a list, excluding a certain percentage of outliers."
      ],
      "metadata": {
        "id": "PpyqWoUaBC94"
      },
      "execution_count": null,
      "outputs": []
    },
    {
      "cell_type": "code",
      "source": [
        "def trimmed_mean(numbers, trim_percent):\n",
        "    \"\"\"\n",
        "    Calculate the trimmed mean of a list of numbers by excluding a given percentage of outliers.\n",
        "\n",
        "    Args:\n",
        "        numbers (list): A list of numerical values.\n",
        "        trim_percent (float): The percentage (0 to 50) of values to exclude from each end.\n",
        "\n",
        "    Returns:\n",
        "        float: The trimmed mean of the numbers.\n",
        "\n",
        "    Raises:\n",
        "        ValueError: If the list is empty or trim_percent is invalid.\n",
        "    \"\"\"\n",
        "    if not numbers:\n",
        "        raise ValueError(\"The list of numbers cannot be empty.\")\n",
        "    if not (0 <= trim_percent <= 50):\n",
        "        raise ValueError(\"trim_percent must be between 0 and 50.\")\n",
        "\n",
        "    numbers = sorted(numbers)\n",
        "\n",
        "    n = len(numbers)\n",
        "    trim_count = int(n * (trim_percent / 100))\n",
        "\n",
        "    trimmed_numbers = numbers[trim_count:n - trim_count]\n",
        "\n",
        "    return sum(trimmed_numbers) / len(trimmed_numbers)\n",
        "\n",
        "numbers = [1, 2, 3, 4, 5, 100, 200, 300, 400, 500]\n",
        "trim_percent = 10\n",
        "print(\"Trimmed Mean:\", trimmed_mean(numbers, trim_percent))"
      ],
      "metadata": {
        "colab": {
          "base_uri": "https://localhost:8080/"
        },
        "id": "rjOOe7HbBKGf",
        "outputId": "4944cac2-d77a-44c4-fc89-fdda4ac7d5f5"
      },
      "execution_count": null,
      "outputs": [
        {
          "output_type": "stream",
          "name": "stdout",
          "text": [
            "Trimmed Mean: 126.75\n"
          ]
        }
      ]
    },
    {
      "cell_type": "code",
      "source": [
        "#Q2. Generate a list of 500 integers containing values between 200 to 300 and store it in the variable `int_list2`. After generating the list, find the following:"
      ],
      "metadata": {
        "id": "caofUDkBBWpo"
      },
      "execution_count": null,
      "outputs": []
    },
    {
      "cell_type": "code",
      "source": [
        "# # (i) Compare the given list of visualization for the given data:\n",
        "# 1. Frequency & Gaussian distribution\n",
        "# 2. Frequency smoothened KDE plot\n",
        "# 3. Gaussian distribution & smoothened KDE plot"
      ],
      "metadata": {
        "id": "M9ip5Pa5Boa2"
      },
      "execution_count": null,
      "outputs": []
    },
    {
      "cell_type": "code",
      "source": [
        "import matplotlib.pyplot as plt\n",
        "import seaborn as sns\n",
        "from scipy.stats import norm\n",
        "import numpy as np\n",
        "\n",
        "# Generate the data (500 integers between 200 and 300)\n",
        "import random\n",
        "int_list2 = [random.randint(200, 300) for _ in range(500)]\n",
        "\n",
        "# Prepare data for Gaussian distribution\n",
        "mean = np.mean(int_list2)\n",
        "std_dev = np.std(int_list2)\n",
        "x = np.linspace(min(int_list2), max(int_list2), 500)\n",
        "gaussian = norm.pdf(x, mean, std_dev)\n",
        "\n",
        "# Plot 1: Frequency & Gaussian distribution\n",
        "plt.figure(figsize=(15, 5))\n",
        "\n",
        "plt.subplot(1, 3, 1)\n",
        "sns.histplot(int_list2, bins=15, kde=False, color='skyblue', label='Frequency')\n",
        "plt.plot(x, gaussian * len(int_list2) * (max(int_list2) - min(int_list2)) / 15, 'r-', label='Gaussian')\n",
        "plt.title('Frequency & Gaussian Distribution')\n",
        "plt.xlabel('Value')\n",
        "plt.ylabel('Frequency')\n",
        "plt.legend()\n",
        "\n",
        "# Plot 2: Frequency & Smoothened KDE plot\n",
        "plt.subplot(1, 3, 2)\n",
        "sns.histplot(int_list2, bins=15, kde=False, color='skyblue', label='Frequency')\n",
        "sns.kdeplot(int_list2, color='orange', label='KDE', linewidth=2)\n",
        "plt.title('Frequency & Smoothened KDE Plot')\n",
        "plt.xlabel('Value')\n",
        "plt.ylabel('Frequency')\n",
        "plt.legend()\n",
        "\n",
        "# Plot 3: Gaussian Distribution & Smoothened KDE plot\n",
        "plt.subplot(1, 3, 3)\n",
        "plt.plot(x, gaussian, 'r-', label='Gaussian', linewidth=2)\n",
        "sns.kdeplot(int_list2, color='orange', label='KDE', linewidth=2)\n",
        "plt.title('Gaussian Distribution & Smoothened KDE Plot')\n",
        "plt.xlabel('Value')\n",
        "plt.ylabel('Density')\n",
        "plt.legend()\n",
        "\n",
        "plt.tight_layout()\n",
        "plt.show()"
      ],
      "metadata": {
        "colab": {
          "base_uri": "https://localhost:8080/",
          "height": 426
        },
        "id": "jIOd3NAaCCx8",
        "outputId": "b0cc8fb5-91a3-42f6-a687-56ada201a9ed"
      },
      "execution_count": null,
      "outputs": [
        {
          "output_type": "display_data",
          "data": {
            "text/plain": [
              "<Figure size 1500x500 with 3 Axes>"
            ],
            "image/png": "[encoded data removed]"
          },
          "metadata": {}
        }
      ]
    },
    {
      "cell_type": "code",
      "source": [
        "#(ii) Write a Python function to calculate the range of a given list of numbers."
      ],
      "metadata": {
        "id": "vhmRAGTdCP50"
      },
      "execution_count": null,
      "outputs": []
    },
    {
      "cell_type": "code",
      "source": [
        "def calculate_range(numbers):\n",
        "    \"\"\"\n",
        "    Calculate the range of a list of numbers.\n",
        "\n",
        "    The range is the difference between the maximum and minimum values in the list.\n",
        "\n",
        "    Args:\n",
        "        numbers (list): A list of numerical values.\n",
        "\n",
        "    Returns:\n",
        "        float: The range of the numbers.\n",
        "\n",
        "    Raises:\n",
        "        ValueError: If the list is empty.\n",
        "    \"\"\"\n",
        "    if not numbers:\n",
        "        raise ValueError(\"The list of numbers cannot be empty.\")\n",
        "\n",
        "    return max(numbers) - min(numbers)\n",
        "\n",
        "numbers = [10, 20, 30, 40, 50]\n",
        "print(\"Range:\", calculate_range(numbers))"
      ],
      "metadata": {
        "colab": {
          "base_uri": "https://localhost:8080/"
        },
        "id": "c4pqkIhnCjNG",
        "outputId": "d726a3d7-1b23-4104-c28a-3a958d5e12f1"
      },
      "execution_count": null,
      "outputs": [
        {
          "output_type": "stream",
          "name": "stdout",
          "text": [
            "Range: 40\n"
          ]
        }
      ]
    },
    {
      "cell_type": "code",
      "source": [
        "#(iii) Create a program to find the variance and standard deviation of a list of numbers."
      ],
      "metadata": {
        "id": "gf3IF5AHCtqG"
      },
      "execution_count": null,
      "outputs": []
    },
    {
      "cell_type": "code",
      "source": [
        "def calculate_variance(numbers):\n",
        "    \"\"\"\n",
        "    Calculate the variance of a list of numbers.\n",
        "\n",
        "    Variance is the average of the squared differences from the mean.\n",
        "\n",
        "    Args:\n",
        "        numbers (list): A list of numerical values.\n",
        "\n",
        "    Returns:\n",
        "        float: The variance of the numbers.\n",
        "\n",
        "    Raises:\n",
        "        ValueError: If the list is empty.\n",
        "    \"\"\"\n",
        "    if not numbers:\n",
        "        raise ValueError(\"The list of numbers cannot be empty.\")\n",
        "\n",
        "    mean_value = sum(numbers) / len(numbers)\n",
        "    squared_differences = [(x - mean_value) ** 2 for x in numbers]\n",
        "    return sum(squared_differences) / len(numbers)\n",
        "\n",
        "\n",
        "def calculate_std_dev(numbers):\n",
        "    \"\"\"\n",
        "    Calculate the standard deviation of a list of numbers.\n",
        "\n",
        "    Standard deviation is the square root of the variance.\n",
        "\n",
        "    Args:\n",
        "        numbers (list): A list of numerical values.\n",
        "\n",
        "    Returns:\n",
        "        float: The standard deviation of the numbers.\n",
        "    \"\"\"\n",
        "    variance = calculate_variance(numbers)\n",
        "    return variance ** 0.5\n",
        "\n",
        "\n",
        "numbers = [10, 20, 30, 40, 50]\n",
        "\n",
        "variance = calculate_variance(numbers)\n",
        "std_dev = calculate_std_dev(numbers)\n",
        "\n",
        "print(\"Variance:\", variance)\n",
        "print(\"Standard Deviation:\", std_dev)"
      ],
      "metadata": {
        "colab": {
          "base_uri": "https://localhost:8080/"
        },
        "id": "c-6JRAfnCzbs",
        "outputId": "82d68046-f84c-4887-d511-4ac3703486e4"
      },
      "execution_count": null,
      "outputs": [
        {
          "output_type": "stream",
          "name": "stdout",
          "text": [
            "Variance: 200.0\n",
            "Standard Deviation: 14.142135623730951\n"
          ]
        }
      ]
    },
    {
      "cell_type": "code",
      "source": [
        "#(iv) Implement a function to compute the interquartile range (IQR) of a list of values."
      ],
      "metadata": {
        "id": "sjguMppJDXA9"
      },
      "execution_count": null,
      "outputs": []
    },
    {
      "cell_type": "code",
      "source": [
        "def calculate_iqr(numbers):\n",
        "    \"\"\"\n",
        "    Calculate the interquartile range (IQR) of a list of numbers.\n",
        "\n",
        "    The IQR is the difference between the third quartile (Q3) and the first quartile (Q1).\n",
        "\n",
        "    Args:\n",
        "        numbers (list): A list of numerical values.\n",
        "\n",
        "    Returns:\n",
        "        float: The interquartile range (IQR).\n",
        "\n",
        "    Raises:\n",
        "        ValueError: If the list is empty.\n",
        "    \"\"\"\n",
        "    if not numbers:\n",
        "        raise ValueError(\"The list of numbers cannot be empty.\")\n",
        "\n",
        "    sorted_numbers = sorted(numbers)\n",
        "\n",
        "    n = len(sorted_numbers)\n",
        "    q1_index = n // 4\n",
        "    q3_index = 3 * n // 4\n",
        "\n",
        "    if n % 2 == 0:\n",
        "        q1 = (sorted_numbers[q1_index - 1] + sorted_numbers[q1_index]) / 2\n",
        "        q3 = (sorted_numbers[q3_index - 1] + sorted_numbers[q3_index]) / 2\n",
        "    else:\n",
        "        q1 = sorted_numbers[q1_index]\n",
        "        q3 = sorted_numbers[q3_index]\n",
        "\n",
        "    return q3 - q1\n",
        "\n",
        "\n",
        "numbers = [10, 20, 30, 40, 50, 60, 70, 80, 90, 100]\n",
        "iqr = calculate_iqr(numbers)\n",
        "print(\"Interquartile Range (IQR):\", iqr)"
      ],
      "metadata": {
        "colab": {
          "base_uri": "https://localhost:8080/"
        },
        "id": "cf4yTv_PDifz",
        "outputId": "67227cb6-954b-4a2e-b902-edd42f3c21eb"
      },
      "execution_count": null,
      "outputs": [
        {
          "output_type": "stream",
          "name": "stdout",
          "text": [
            "Interquartile Range (IQR): 50.0\n"
          ]
        }
      ]
    },
    {
      "cell_type": "code",
      "source": [
        "#(v) Build a program to calculate the coefficient of variation for a dataset."
      ],
      "metadata": {
        "id": "chN1YiuGDzm8"
      },
      "execution_count": null,
      "outputs": []
    },
    {
      "cell_type": "code",
      "source": [
        "def calculate_coefficient_of_variation(numbers):\n",
        "    \"\"\"\n",
        "    Calculate the coefficient of variation (CV) of a dataset.\n",
        "\n",
        "    CV is the ratio of the standard deviation to the mean, expressed as a percentage.\n",
        "\n",
        "    Args:\n",
        "        numbers (list): A list of numerical values.\n",
        "\n",
        "    Returns:\n",
        "        float: The coefficient of variation as a percentage.\n",
        "\n",
        "    Raises:\n",
        "        ValueError: If the list is empty or the mean is zero.\n",
        "    \"\"\"\n",
        "    if not numbers:\n",
        "        raise ValueError(\"The list of numbers cannot be empty.\")\n",
        "\n",
        "    mean_value = sum(numbers) / len(numbers)\n",
        "    if mean_value == 0:\n",
        "        raise ValueError(\"The mean of the dataset cannot be zero.\")\n",
        "\n",
        "    squared_differences = [(x - mean_value) ** 2 for x in numbers]\n",
        "    variance = sum(squared_differences) / len(numbers)\n",
        "    std_dev = variance ** 0.5\n",
        "\n",
        "    cv = (std_dev / mean_value) * 100\n",
        "    return cv\n",
        "\n",
        "\n",
        "numbers = [10, 20, 30, 40, 50]\n",
        "cv = calculate_coefficient_of_variation(numbers)\n",
        "print(\"Coefficient of Variation (CV):\", cv, \"%\")"
      ],
      "metadata": {
        "colab": {
          "base_uri": "https://localhost:8080/"
        },
        "id": "FoGABUV1D6Ni",
        "outputId": "8353c593-37dc-4e63-9524-069e21877c74"
      },
      "execution_count": null,
      "outputs": [
        {
          "output_type": "stream",
          "name": "stdout",
          "text": [
            "Coefficient of Variation (CV): 47.14045207910317 %\n"
          ]
        }
      ]
    },
    {
      "cell_type": "code",
      "source": [
        "#(vi) Write a Python function to find the mean absolute deviation (MAD) of a list of numbers."
      ],
      "metadata": {
        "id": "jx9ZBJUKEGlM"
      },
      "execution_count": null,
      "outputs": []
    },
    {
      "cell_type": "code",
      "source": [
        "def calculate_mad(numbers):\n",
        "    \"\"\"\n",
        "    Calculate the Mean Absolute Deviation (MAD) of a list of numbers.\n",
        "\n",
        "    MAD is the average of the absolute deviations from the mean.\n",
        "\n",
        "    Args:\n",
        "        numbers (list): A list of numerical values.\n",
        "\n",
        "    Returns:\n",
        "        float: The mean absolute deviation (MAD).\n",
        "\n",
        "    Raises:\n",
        "        ValueError: If the list is empty.\n",
        "    \"\"\"\n",
        "    if not numbers:\n",
        "        raise ValueError(\"The list of numbers cannot be empty.\")\n",
        "\n",
        "    mean_value = sum(numbers) / len(numbers)\n",
        "\n",
        "    absolute_deviations = [abs(x - mean_value) for x in numbers]\n",
        "\n",
        "    return sum(absolute_deviations) / len(numbers)\n",
        "\n",
        "\n",
        "numbers = [10, 20, 30, 40, 50]\n",
        "mad = calculate_mad(numbers)\n",
        "print(\"Mean Absolute Deviation (MAD):\", mad)"
      ],
      "metadata": {
        "colab": {
          "base_uri": "https://localhost:8080/"
        },
        "id": "3o23QWdsEbQ7",
        "outputId": "b170d2fb-d58a-4ca2-ba0d-677d961c026f"
      },
      "execution_count": null,
      "outputs": [
        {
          "output_type": "stream",
          "name": "stdout",
          "text": [
            "Mean Absolute Deviation (MAD): 12.0\n"
          ]
        }
      ]
    },
    {
      "cell_type": "code",
      "source": [
        "#(vii) Create a program to calculate the quartile deviation of a list of values."
      ],
      "metadata": {
        "id": "mokJpW-DEqy7"
      },
      "execution_count": null,
      "outputs": []
    },
    {
      "cell_type": "code",
      "source": [
        "def calculate_quartile_deviation(numbers):\n",
        "    \"\"\"\n",
        "    Calculate the Quartile Deviation (QD) of a list of numbers.\n",
        "\n",
        "    QD is half the difference between the third quartile (Q3) and the first quartile (Q1).\n",
        "\n",
        "    Args:\n",
        "        numbers (list): A list of numerical values.\n",
        "\n",
        "    Returns:\n",
        "        float: The quartile deviation (QD).\n",
        "\n",
        "    Raises:\n",
        "        ValueError: If the list is empty.\n",
        "    \"\"\"\n",
        "    if not numbers:\n",
        "        raise ValueError(\"The list of numbers cannot be empty.\")\n",
        "\n",
        "    sorted_numbers = sorted(numbers)\n",
        "\n",
        "    n = len(sorted_numbers)\n",
        "    q1_index = n // 4\n",
        "    q3_index = 3 * n // 4\n",
        "\n",
        "    if n % 2 == 0:\n",
        "        q1 = (sorted_numbers[q1_index - 1] + sorted_numbers[q1_index]) / 2\n",
        "        q3 = (sorted_numbers[q3_index - 1] + sorted_numbers[q3_index]) / 2\n",
        "    else:\n",
        "        q1 = sorted_numbers[q1_index]\n",
        "        q3 = sorted_numbers[q3_index]\n",
        "\n",
        "    qd = (q3 - q1) / 2\n",
        "    return qd\n",
        "\n",
        "\n",
        "numbers = [10, 20, 30, 40, 50, 60, 70, 80, 90, 100]\n",
        "quartile_deviation = calculate_quartile_deviation(numbers)\n",
        "print(\"Quartile Deviation (QD):\", quartile_deviation)"
      ],
      "metadata": {
        "colab": {
          "base_uri": "https://localhost:8080/"
        },
        "id": "y1DUVEn3EzuL",
        "outputId": "4e47b043-0a46-4829-c9d2-739f547dc1eb"
      },
      "execution_count": null,
      "outputs": [
        {
          "output_type": "stream",
          "name": "stdout",
          "text": [
            "Quartile Deviation (QD): 25.0\n"
          ]
        }
      ]
    },
    {
      "cell_type": "code",
      "source": [
        "#(viii) Implement a function to find the range-based coefficient of dispersion for a dataset."
      ],
      "metadata": {
        "id": "ZFp7Bo1KE8yg"
      },
      "execution_count": null,
      "outputs": []
    },
    {
      "cell_type": "code",
      "source": [
        "def calculate_range_based_cd(numbers):\n",
        "    \"\"\"\n",
        "    Calculate the range-based coefficient of dispersion (CD) for a dataset.\n",
        "\n",
        "    The CD is the ratio of the range to the mean, expressed as a percentage.\n",
        "\n",
        "    Args:\n",
        "        numbers (list): A list of numerical values.\n",
        "\n",
        "    Returns:\n",
        "        float: The range-based coefficient of dispersion (CD) as a percentage.\n",
        "\n",
        "    Raises:\n",
        "        ValueError: If the list is empty or the mean is zero.\n",
        "    \"\"\"\n",
        "    if not numbers:\n",
        "        raise ValueError(\"The list of numbers cannot be empty.\")\n",
        "\n",
        "    mean_value = sum(numbers) / len(numbers)\n",
        "    if mean_value == 0:\n",
        "        raise ValueError(\"The mean of the dataset cannot be zero.\")\n",
        "\n",
        "    range_value = max(numbers) - min(numbers)\n",
        "\n",
        "    cd = (range_value / mean_value) * 100\n",
        "    return cd\n",
        "\n",
        "\n",
        "numbers = [10, 20, 30, 40, 50]\n",
        "cd = calculate_range_based_cd(numbers)\n",
        "print(\"Range-based Coefficient of Dispersion (CD):\", cd, \"%\")"
      ],
      "metadata": {
        "colab": {
          "base_uri": "https://localhost:8080/"
        },
        "id": "0pMTzlypLIhd",
        "outputId": "56e99c53-cd54-40db-cae6-63e9d1fe506c"
      },
      "execution_count": null,
      "outputs": [
        {
          "output_type": "stream",
          "name": "stdout",
          "text": [
            "Range-based Coefficient of Dispersion (CD): 133.33333333333331 %\n"
          ]
        }
      ]
    },
    {
      "cell_type": "code",
      "source": [
        "#Q.3 Write a Python class representing a discrete random variable with methods to calculate its expected value and variance."
      ],
      "metadata": {
        "id": "bK6DB-3zvIev"
      },
      "execution_count": null,
      "outputs": []
    },
    {
      "cell_type": "code",
      "source": [
        "class DiscreteRandomVariable:\n",
        "    def __init__(self, values, probabilities):\n",
        "        \"\"\"\n",
        "        Initialize the discrete random variable with a list of values and corresponding probabilities.\n",
        "\n",
        "        :param values: List of possible values of the random variable.\n",
        "        :param probabilities: List of probabilities corresponding to the values.\n",
        "        \"\"\"\n",
        "        if len(values) != len(probabilities):\n",
        "            raise ValueError(\"Values and probabilities must have the same length.\")\n",
        "\n",
        "        if sum(probabilities) != 1:\n",
        "            raise ValueError(\"Probabilities must sum to 1.\")\n",
        "\n",
        "        self.values = values\n",
        "        self.probabilities = probabilities\n",
        "\n",
        "    def expected_value(self):\n",
        "        \"\"\"\n",
        "        Calculate the expected value (mean) of the discrete random variable.\n",
        "\n",
        "        :return: The expected value.\n",
        "        \"\"\"\n",
        "        return sum(value * prob for value, prob in zip(self.values, self.probabilities))\n",
        "\n",
        "    def variance(self):\n",
        "        \"\"\"\n",
        "        Calculate the variance of the discrete random variable.\n",
        "\n",
        "        :return: The variance.\n",
        "        \"\"\"\n",
        "        mean = self.expected_value()\n",
        "        return sum(prob * (value - mean) ** 2 for value, prob in zip(self.values, self.probabilities))\n",
        "\n",
        "values = [1, 2, 3, 4]\n",
        "probabilities = [0.1, 0.2, 0.3, 0.4]\n",
        "\n",
        "random_variable = DiscreteRandomVariable(values, probabilities)\n",
        "print(\"Expected Value:\", random_variable.expected_value())\n",
        "print(\"Variance:\", random_variable.variance())"
      ],
      "metadata": {
        "colab": {
          "base_uri": "https://localhost:8080/"
        },
        "id": "4Dtp4Q4uvQ0M",
        "outputId": "cf32ff8e-51b8-480b-f7e2-eee3833fab80"
      },
      "execution_count": null,
      "outputs": [
        {
          "output_type": "stream",
          "name": "stdout",
          "text": [
            "Expected Value: 3.0\n",
            "Variance: 1.0\n"
          ]
        }
      ]
    },
    {
      "cell_type": "code",
      "source": [
        "#Q.4  Implement a program to simulate the rolling of a fair six-sided die and calculate the expected value and variance of the outcomes."
      ],
      "metadata": {
        "id": "BMNeZ-iTvYVM"
      },
      "execution_count": null,
      "outputs": []
    },
    {
      "cell_type": "code",
      "source": [
        "class FairDie:\n",
        "    def __init__(self):\n",
        "        self.values = [1, 2, 3, 4, 5, 6]\n",
        "        self.probabilities = [1/6] * 6\n",
        "\n",
        "    def expected_value(self):\n",
        "        \"\"\"\n",
        "        Calculate the expected value of rolling the die.\n",
        "\n",
        "        :return: The expected value.\n",
        "        \"\"\"\n",
        "        return sum(value * prob for value, prob in zip(self.values, self.probabilities))\n",
        "\n",
        "    def variance(self):\n",
        "        \"\"\"\n",
        "        Calculate the variance of rolling the die.\n",
        "\n",
        "        :return: The variance.\n",
        "        \"\"\"\n",
        "        mean = self.expected_value()\n",
        "        return sum(prob * (value - mean) ** 2 for value, prob in zip(self.values, self.probabilities))\n",
        "\n",
        "die = FairDie()\n",
        "print(\"Expected Value:\", die.expected_value())\n",
        "print(\"Variance:\", die.variance())"
      ],
      "metadata": {
        "colab": {
          "base_uri": "https://localhost:8080/"
        },
        "id": "GDoSH7F8vhMd",
        "outputId": "7e567733-ea16-4708-8b70-fe853cbe7cbe"
      },
      "execution_count": null,
      "outputs": [
        {
          "output_type": "stream",
          "name": "stdout",
          "text": [
            "Expected Value: 3.5\n",
            "Variance: 2.9166666666666665\n"
          ]
        }
      ]
    },
    {
      "cell_type": "code",
      "source": [
        "#Q.5 Create a Python function to generate random samples from a given probability distribution (e.g.,binomial, Poisson) and calculate their mean and variance."
      ],
      "metadata": {
        "id": "PRB6qvwBvrfj"
      },
      "execution_count": null,
      "outputs": []
    },
    {
      "cell_type": "code",
      "source": [
        "import numpy as np\n",
        "\n",
        "def generate_samples(dist_type, **params):\n",
        "    \"\"\"\n",
        "    Generate random samples from a specified distribution and calculate the mean and variance.\n",
        "\n",
        "    :param dist_type: The type of the distribution ('binomial' or 'poisson').\n",
        "    :param params: The parameters required for the distribution.\n",
        "                    - For 'binomial': n (number of trials), p (probability of success), size (number of samples).\n",
        "                    - For 'poisson': lam (mean), size (number of samples).\n",
        "    :return: A tuple (mean, variance) of the generated samples.\n",
        "    \"\"\"\n",
        "    if dist_type == 'binomial':\n",
        "        n = params.get('n')\n",
        "        p = params.get('p')\n",
        "        size = params.get('size', 1000)\n",
        "        samples = np.random.binomial(n, p, size)\n",
        "\n",
        "    elif dist_type == 'poisson':\n",
        "        lam = params.get('lam')\n",
        "        size = params.get('size', 1000)\n",
        "        samples = np.random.poisson(lam, size)\n",
        "\n",
        "    else:\n",
        "        raise ValueError(\"Unsupported distribution type. Choose 'binomial' or 'poisson'.\")\n",
        "\n",
        "    mean = np.mean(samples)\n",
        "    variance = np.var(samples)\n",
        "\n",
        "    return mean, variance\n",
        "\n",
        "\n",
        "binomial_mean, binomial_variance = generate_samples('binomial', n=10, p=0.5, size=10000)\n",
        "print(f\"Binomial Distribution - Mean: {binomial_mean}, Variance: {binomial_variance}\")\n",
        "\n",
        "poisson_mean, poisson_variance = generate_samples('poisson', lam=5, size=10000)\n",
        "print(f\"Poisson Distribution - Mean: {poisson_mean}, Variance: {poisson_variance}\")"
      ],
      "metadata": {
        "colab": {
          "base_uri": "https://localhost:8080/"
        },
        "id": "WZ4l6XH8wS0a",
        "outputId": "069d5822-4075-4c86-f1c9-c9ede7001172"
      },
      "execution_count": null,
      "outputs": [
        {
          "output_type": "stream",
          "name": "stdout",
          "text": [
            "Binomial Distribution - Mean: 5.0257, Variance: 2.4636395099999997\n",
            "Poisson Distribution - Mean: 5.0063, Variance: 4.91406031\n"
          ]
        }
      ]
    },
    {
      "cell_type": "code",
      "source": [
        "#Q.6 Write a Python script to generate random numbers from a Gaussian (normal) distribution and compute the mean, variance, and standard deviation of the samples."
      ],
      "metadata": {
        "id": "1Gn1UdLOwTnS"
      },
      "execution_count": null,
      "outputs": []
    },
    {
      "cell_type": "code",
      "source": [
        "import numpy as np\n",
        "\n",
        "def generate_normal_samples(mean, std_dev, size):\n",
        "    \"\"\"\n",
        "    Generate random samples from a Gaussian (normal) distribution and calculate the mean, variance, and standard deviation.\n",
        "\n",
        "    :param mean: The mean (mu) of the normal distribution.\n",
        "    :param std_dev: The standard deviation (sigma) of the normal distribution.\n",
        "    :param size: The number of random samples to generate.\n",
        "    :return: The mean, variance, and standard deviation of the generated samples.\n",
        "    \"\"\"\n",
        "    samples = np.random.normal(mean, std_dev, size)\n",
        "\n",
        "    sample_mean = np.mean(samples)\n",
        "    sample_variance = np.var(samples)\n",
        "    sample_std_dev = np.std(samples)\n",
        "\n",
        "    return sample_mean, sample_variance, sample_std_dev\n",
        "\n",
        "\n",
        "mean = 0\n",
        "std_dev = 1\n",
        "size = 10000\n",
        "\n",
        "sample_mean, sample_variance, sample_std_dev = generate_normal_samples(mean, std_dev, size)\n",
        "\n",
        "print(f\"Generated Normal Distribution (mean = {mean}, std_dev = {std_dev})\")\n",
        "print(f\"Sample Mean: {sample_mean}\")\n",
        "print(f\"Sample Variance: {sample_variance}\")\n",
        "print(f\"Sample Standard Deviation: {sample_std_dev}\")"
      ],
      "metadata": {
        "colab": {
          "base_uri": "https://localhost:8080/"
        },
        "id": "MWk5j3m_wpT3",
        "outputId": "ec376556-3a40-485f-ed2d-f09b6bc93cf8"
      },
      "execution_count": null,
      "outputs": [
        {
          "output_type": "stream",
          "name": "stdout",
          "text": [
            "Generated Normal Distribution (mean = 0, std_dev = 1)\n",
            "Sample Mean: -0.0088001956385561\n",
            "Sample Variance: 1.010180164399606\n",
            "Sample Standard Deviation: 1.0050771932541331\n"
          ]
        }
      ]
    },
    {
      "cell_type": "code",
      "source": [
        "#Q.7 Use seaborn library to load tips dataset. Find the following from the dataset for the columns total_bill and tip`:"
      ],
      "metadata": {
        "id": "zwErEJMpxvLq"
      },
      "execution_count": 1,
      "outputs": []
    },
    {
      "cell_type": "code",
      "source": [
        "#(i) Write a Python function that calculates their skewness."
      ],
      "metadata": {
        "id": "KzNk0zcEYDCv"
      },
      "execution_count": 2,
      "outputs": []
    },
    {
      "cell_type": "code",
      "source": [
        "def calculate_skewness(data):\n",
        "    \"\"\"\n",
        "    Calculate the skewness of a given dataset.\n",
        "\n",
        "    Parameters:\n",
        "    data (list or array-like): The dataset for which skewness is to be calculated.\n",
        "\n",
        "    Returns:\n",
        "    float: The skewness value.\n",
        "    \"\"\"\n",
        "    if len(data) < 3:\n",
        "        raise ValueError(\"Data must contain at least three values to calculate skewness.\")\n",
        "\n",
        "    n = len(data)\n",
        "    mean = sum(data) / n\n",
        "    deviations = [(x - mean) for x in data]\n",
        "    squared_deviations = [d**2 for d in deviations]\n",
        "    cubed_deviations = [d**3 for d in deviations]\n",
        "\n",
        "    numerator = sum(cubed_deviations) / n\n",
        "    denominator = (sum(squared_deviations) / n)**(3 / 2)\n",
        "\n",
        "    skewness = numerator / denominator\n",
        "    return skewness\n",
        "\n",
        "data = [1, 2, 2, 3, 3, 3, 4, 4, 5]\n",
        "print(\"Skewness:\", calculate_skewness(data))"
      ],
      "metadata": {
        "colab": {
          "base_uri": "https://localhost:8080/"
        },
        "id": "Pw-cThQQYRcR",
        "outputId": "630b7987-30fe-4dc7-ed0d-1059fdf0a01d"
      },
      "execution_count": 3,
      "outputs": [
        {
          "output_type": "stream",
          "name": "stdout",
          "text": [
            "Skewness: 0.0\n"
          ]
        }
      ]
    },
    {
      "cell_type": "code",
      "source": [
        "#(ii) Create a program that determines whether the columns exhibit positive skewness, negative skewness, or is approximately symmetric."
      ],
      "metadata": {
        "id": "AARw-Aq9YeTx"
      },
      "execution_count": 4,
      "outputs": []
    },
    {
      "cell_type": "code",
      "source": [
        "import pandas as pd\n",
        "\n",
        "def calculate_skewness(data):\n",
        "    \"\"\"\n",
        "    Calculate the skewness of a given dataset.\n",
        "\n",
        "    Parameters:\n",
        "    data (list or array-like): The dataset for which skewness is to be calculated.\n",
        "\n",
        "    Returns:\n",
        "    float: The skewness value.\n",
        "    \"\"\"\n",
        "    if len(data) < 3:\n",
        "        raise ValueError(\"Data must contain at least three values to calculate skewness.\")\n",
        "\n",
        "    n = len(data)\n",
        "    mean = sum(data) / n\n",
        "    deviations = [(x - mean) for x in data]\n",
        "    squared_deviations = [d**2 for d in deviations]\n",
        "    cubed_deviations = [d**3 for d in deviations]\n",
        "\n",
        "    numerator = sum(cubed_deviations) / n\n",
        "    denominator = (sum(squared_deviations) / n)**(3 / 2)\n",
        "\n",
        "    skewness = numerator / denominator\n",
        "    return skewness\n",
        "\n",
        "def analyze_skewness(df):\n",
        "    \"\"\"\n",
        "    Analyze skewness for each column in a DataFrame.\n",
        "\n",
        "    Parameters:\n",
        "    df (DataFrame): Input DataFrame with numerical columns.\n",
        "\n",
        "    Returns:\n",
        "    dict: A dictionary with column names as keys and skewness descriptions as values.\n",
        "    \"\"\"\n",
        "    skewness_analysis = {}\n",
        "    for column in df.columns:\n",
        "        if pd.api.types.is_numeric_dtype(df[column]):\n",
        "            skewness_value = calculate_skewness(df[column].dropna().tolist())\n",
        "            if skewness_value > 0:\n",
        "                skewness_analysis[column] = \"Positive Skewness\"\n",
        "            elif skewness_value < 0:\n",
        "                skewness_analysis[column] = \"Negative Skewness\"\n",
        "            else:\n",
        "                skewness_analysis[column] = \"Approximately Symmetric\"\n",
        "        else:\n",
        "            skewness_analysis[column] = \"Non-numeric column\"\n",
        "    return skewness_analysis\n",
        "\n",
        "data = {\n",
        "    \"Column1\": [1, 2, 3, 4, 5],\n",
        "    \"Column2\": [5, 5, 5, 5, 5],\n",
        "    \"Column3\": [10, 20, 30, 40, 50],\n",
        "    \"Column4\": [1, 2, 2, 3, 3]\n",
        "}\n",
        "df = pd.DataFrame(data)\n",
        "\n",
        "result = analyze_skewness(df)\n",
        "print(\"Skewness Analysis:\")\n",
        "for col, skewness in result.items():\n",
        "    print(f\"{col}: {skewness}\")"
      ],
      "metadata": {
        "id": "GqW0ILcOdlDC"
      },
      "execution_count": null,
      "outputs": []
    },
    {
      "cell_type": "code",
      "source": [
        " #(iii) Write a function that calculates the covariance between two columns."
      ],
      "metadata": {
        "id": "L5WO-hbfdr6i"
      },
      "execution_count": 8,
      "outputs": []
    },
    {
      "cell_type": "code",
      "source": [
        "def calculate_covariance(column1, column2):\n",
        "    \"\"\"\n",
        "    Calculate the covariance between two columns.\n",
        "\n",
        "    Parameters:\n",
        "    column1 (list or array-like): The first dataset.\n",
        "    column2 (list or array-like): The second dataset.\n",
        "\n",
        "    Returns:\n",
        "    float: The covariance between the two datasets.\n",
        "    \"\"\"\n",
        "    if len(column1) != len(column2):\n",
        "        raise ValueError(\"Both columns must have the same number of elements.\")\n",
        "\n",
        "    n = len(column1)\n",
        "    mean1 = sum(column1) / n\n",
        "    mean2 = sum(column2) / n\n",
        "\n",
        "    deviations_product = [(x - mean1) * (y - mean2) for x, y in zip(column1, column2)]\n",
        "    covariance = sum(deviations_product) / n\n",
        "\n",
        "    return covariance\n",
        "\n",
        "column1 = [2, 4, 6, 8]\n",
        "column2 = [1, 3, 5, 7]\n",
        "\n",
        "print(\"Covariance:\", calculate_covariance(column1, column2))"
      ],
      "metadata": {
        "colab": {
          "base_uri": "https://localhost:8080/"
        },
        "id": "utP_xFrld_N3",
        "outputId": "f853cc42-e6f5-4811-92bc-e75e4124aaa0"
      },
      "execution_count": 9,
      "outputs": [
        {
          "output_type": "stream",
          "name": "stdout",
          "text": [
            "Covariance: 5.0\n"
          ]
        }
      ]
    },
    {
      "cell_type": "code",
      "source": [
        "import pandas as pd\n",
        "\n",
        "def calculate_covariance_df(df, col1, col2):\n",
        "    return calculate_covariance(df[col1].dropna(), df[col2].dropna())"
      ],
      "metadata": {
        "id": "6dOdvH3yeMNn"
      },
      "execution_count": null,
      "outputs": []
    },
    {
      "cell_type": "code",
      "source": [
        "#(iv) Implement a Python program that calculates the Pearson correlation coefficient between two columns."
      ],
      "metadata": {
        "id": "1tDCMkl_eluo"
      },
      "execution_count": 12,
      "outputs": []
    },
    {
      "cell_type": "code",
      "source": [
        "import math\n",
        "\n",
        "def calculate_pearson_correlation(column1, column2):\n",
        "    \"\"\"\n",
        "    Calculate the Pearson correlation coefficient between two columns.\n",
        "\n",
        "    Parameters:\n",
        "    column1 (list or array-like): The first dataset.\n",
        "    column2 (list or array-like): The second dataset.\n",
        "\n",
        "    Returns:\n",
        "    float: The Pearson correlation coefficient.\n",
        "    \"\"\"\n",
        "    if len(column1) != len(column2):\n",
        "        raise ValueError(\"Both columns must have the same number of elements.\")\n",
        "\n",
        "    n = len(column1)\n",
        "    mean1 = sum(column1) / n\n",
        "    mean2 = sum(column2) / n\n",
        "\n",
        "    covariance = sum((x - mean1) * (y - mean2) for x, y in zip(column1, column2)) / n\n",
        "\n",
        "    std_dev1 = math.sqrt(sum((x - mean1)**2 for x in column1) / n)\n",
        "    std_dev2 = math.sqrt(sum((y - mean2)**2 for y in column2) / n)\n",
        "\n",
        "    if std_dev1 == 0 or std_dev2 == 0:\n",
        "        raise ValueError(\"Standard deviation cannot be zero for Pearson correlation.\")\n",
        "\n",
        "    correlation = covariance / (std_dev1 * std_dev2)\n",
        "    return correlation\n",
        "\n",
        "column1 = [2, 4, 6, 8]\n",
        "column2 = [1, 3, 5, 7]\n",
        "\n",
        "print(\"Pearson Correlation Coefficient:\", calculate_pearson_correlation(column1, column2))"
      ],
      "metadata": {
        "colab": {
          "base_uri": "https://localhost:8080/"
        },
        "id": "_Vj_62M8e5RM",
        "outputId": "4cd5de0c-551b-46d0-d530-a7f750c24b66"
      },
      "execution_count": 13,
      "outputs": [
        {
          "output_type": "stream",
          "name": "stdout",
          "text": [
            "Pearson Correlation Coefficient: 0.9999999999999998\n"
          ]
        }
      ]
    },
    {
      "cell_type": "code",
      "source": [
        "import pandas as pd\n",
        "\n",
        "def calculate_pearson_correlation_df(df, col1, col2):\n",
        "    return calculate_pearson_correlation(df[col1].dropna(), df[col2].dropna())"
      ],
      "metadata": {
        "id": "xdTrgyJ7fMja"
      },
      "execution_count": null,
      "outputs": []
    },
    {
      "cell_type": "code",
      "source": [
        "#(v) Write a script to visualize the correlation between two specific columns in a Pandas DataFrame using scatter plots."
      ],
      "metadata": {
        "id": "reCRmDMUfS8f"
      },
      "execution_count": 14,
      "outputs": []
    },
    {
      "cell_type": "code",
      "source": [
        "import pandas as pd\n",
        "import matplotlib.pyplot as plt\n",
        "\n",
        "def visualize_correlation(df, col1, col2):\n",
        "    \"\"\"\n",
        "    Visualize the correlation between two columns using a scatter plot.\n",
        "\n",
        "    Parameters:\n",
        "    df (DataFrame): The pandas DataFrame containing the data.\n",
        "    col1 (str): The name of the first column.\n",
        "    col2 (str): The name of the second column.\n",
        "\n",
        "    Returns:\n",
        "    None: Displays a scatter plot.\n",
        "    \"\"\"\n",
        "    if col1 not in df.columns or col2 not in df.columns:\n",
        "        raise ValueError(f\"Columns '{col1}' and/or '{col2}' are not in the DataFrame.\")\n",
        "\n",
        "    x = df[col1]\n",
        "    y = df[col2]\n",
        "\n",
        "    plt.figure(figsize=(8, 6))\n",
        "    plt.scatter(x, y, color='blue', alpha=0.7)\n",
        "    plt.title(f\"Scatter Plot: {col1} vs {col2}\")\n",
        "    plt.xlabel(col1)\n",
        "    plt.ylabel(col2)\n",
        "    plt.grid(True, linestyle='--', alpha=0.5)\n",
        "    plt.show()\n",
        "\n",
        "data = {\n",
        "    \"Column1\": [1, 2, 3, 4, 5],\n",
        "    \"Column2\": [2, 4, 5, 4, 6],\n",
        "    \"Column3\": [1, 3, 2, 5, 7]\n",
        "}\n",
        "df = pd.DataFrame(data)\n",
        "\n",
        "visualize_correlation(df, \"Column1\", \"Column2\")"
      ],
      "metadata": {
        "colab": {
          "base_uri": "https://localhost:8080/",
          "height": 564
        },
        "id": "bfFx3nLPf4qU",
        "outputId": "c1619553-580a-4ab8-caa7-4b791dad544f"
      },
      "execution_count": 15,
      "outputs": [
        {
          "output_type": "display_data",
          "data": {
            "text/plain": [
              "<Figure size 800x600 with 1 Axes>"
            ],
            "image/png": "[encoded data removed]"
          },
          "metadata": {}
        }
      ]
    },
    {
      "cell_type": "code",
      "source": [
        "#Q.8 Write a Python function to calculate the probability density function (PDF) of a continuous random variable for a given normal distribution.\n"
      ],
      "metadata": {
        "id": "gLk4X38pgJba"
      },
      "execution_count": 16,
      "outputs": []
    },
    {
      "cell_type": "code",
      "source": [
        "import math\n",
        "\n",
        "def normal_pdf(x, mean, std_dev):\n",
        "    \"\"\"\n",
        "    Calculate the Probability Density Function (PDF) of a normal distribution.\n",
        "\n",
        "    Parameters:\n",
        "    x (float): The value for which the PDF is calculated.\n",
        "    mean (float): The mean of the normal distribution.\n",
        "    std_dev (float): The standard deviation of the normal distribution.\n",
        "\n",
        "    Returns:\n",
        "    float: The value of the PDF at x.\n",
        "    \"\"\"\n",
        "    if std_dev <= 0:\n",
        "        raise ValueError(\"Standard deviation must be greater than 0.\")\n",
        "\n",
        "    coefficient = 1 / (std_dev * math.sqrt(2 * math.pi))\n",
        "    exponent = math.exp(-((x - mean) ** 2) / (2 * std_dev ** 2))\n",
        "    pdf_value = coefficient * exponent\n",
        "    return pdf_value\n",
        "\n",
        "mean = 0\n",
        "std_dev = 1\n",
        "x = 1\n",
        "\n",
        "print(f\"PDF at x={x} for N(mean={mean}, std_dev={std_dev}):\", normal_pdf(x, mean, std_dev))"
      ],
      "metadata": {
        "colab": {
          "base_uri": "https://localhost:8080/"
        },
        "id": "xclSLw5Kgh0T",
        "outputId": "3d03adfc-3677-44df-e45e-0c24a817b0b3"
      },
      "execution_count": 18,
      "outputs": [
        {
          "output_type": "stream",
          "name": "stdout",
          "text": [
            "PDF at x=1 for N(mean=0, std_dev=1): 0.24197072451914337\n"
          ]
        }
      ]
    },
    {
      "cell_type": "code",
      "source": [
        "#Q.9 Create a program to calculate the cumulative distribution function (CDF) of exponential distribution."
      ],
      "metadata": {
        "id": "_15RS3SQgp-B"
      },
      "execution_count": 19,
      "outputs": []
    },
    {
      "cell_type": "code",
      "source": [
        "import math\n",
        "\n",
        "def exponential_cdf(x, rate):\n",
        "    \"\"\"\n",
        "    Calculate the Cumulative Distribution Function (CDF) of an exponential distribution.\n",
        "\n",
        "    Parameters:\n",
        "    x (float): The value at which to calculate the CDF.\n",
        "    rate (float): The rate parameter (λ > 0) of the exponential distribution.\n",
        "\n",
        "    Returns:\n",
        "    float: The CDF value at x.\n",
        "    \"\"\"\n",
        "    if rate <= 0:\n",
        "        raise ValueError(\"Rate parameter (λ) must be greater than 0.\")\n",
        "    if x < 0:\n",
        "        return 0\n",
        "\n",
        "    cdf_value = 1 - math.exp(-rate * x)\n",
        "    return cdf_value\n",
        "\n",
        "rate = 1.5\n",
        "x = 2.0\n",
        "\n",
        "print(f\"CDF at x={x} for Exponential(rate={rate}):\", exponential_cdf(x, rate))"
      ],
      "metadata": {
        "colab": {
          "base_uri": "https://localhost:8080/"
        },
        "id": "iMuYkSwSg0l7",
        "outputId": "cfd8ed9d-888a-4114-f2ce-3a6ed286cad9"
      },
      "execution_count": 20,
      "outputs": [
        {
          "output_type": "stream",
          "name": "stdout",
          "text": [
            "CDF at x=2.0 for Exponential(rate=1.5): 0.950212931632136\n"
          ]
        }
      ]
    },
    {
      "cell_type": "code",
      "source": [
        "import numpy as np\n",
        "import matplotlib.pyplot as plt\n",
        "\n",
        "# Define parameters\n",
        "rate = 1.5\n",
        "x_values = np.linspace(0, 5, 100)  # Generate values from 0 to 5\n",
        "cdf_values = [exponential_cdf(x, rate) for x in x_values]\n",
        "\n",
        "# Plot the CDF\n",
        "plt.figure(figsize=(8, 6))\n",
        "plt.plot(x_values, cdf_values, label=f\"λ={rate}\")\n",
        "plt.title(\"CDF of Exponential Distribution\")\n",
        "plt.xlabel(\"x\")\n",
        "plt.ylabel(\"CDF\")\n",
        "plt.grid(True, linestyle=\"--\", alpha=0.7)\n",
        "plt.legend()\n",
        "plt.show()"
      ],
      "metadata": {
        "colab": {
          "base_uri": "https://localhost:8080/",
          "height": 564
        },
        "id": "YBB3TXj2hGl3",
        "outputId": "883095dc-023e-41e0-b6bb-d912832b1bfe"
      },
      "execution_count": 21,
      "outputs": [
        {
          "output_type": "display_data",
          "data": {
            "text/plain": [
              "<Figure size 800x600 with 1 Axes>"
            ],
            "image/png": "[encoded data removed]"
          },
          "metadata": {}
        }
      ]
    },
    {
      "cell_type": "code",
      "source": [
        "#Q.10  Write a Python function to calculate the probability mass function (PMF) of Poisson distribution."
      ],
      "metadata": {
        "id": "TrWeitowhKFw"
      },
      "execution_count": 22,
      "outputs": []
    },
    {
      "cell_type": "code",
      "source": [
        "import math\n",
        "\n",
        "def poisson_pmf(k, rate):\n",
        "    \"\"\"\n",
        "    Calculate the Probability Mass Function (PMF) of a Poisson distribution.\n",
        "\n",
        "    Parameters:\n",
        "    k (int): The number of events (k >= 0).\n",
        "    rate (float): The rate parameter (λ > 0) of the Poisson distribution.\n",
        "\n",
        "    Returns:\n",
        "    float: The PMF value at k.\n",
        "    \"\"\"\n",
        "    if k < 0 or not isinstance(k, int):\n",
        "        raise ValueError(\"The number of events (k) must be a non-negative integer.\")\n",
        "    if rate <= 0:\n",
        "        raise ValueError(\"Rate parameter (λ) must be greater than 0.\")\n",
        "\n",
        "    pmf_value = (rate**k * math.exp(-rate)) / math.factorial(k)\n",
        "    return pmf_value\n",
        "\n",
        "rate = 3.0\n",
        "k = 2\n",
        "\n",
        "print(f\"PMF at k={k} for Poisson(rate={rate}):\", poisson_pmf(k, rate))"
      ],
      "metadata": {
        "colab": {
          "base_uri": "https://localhost:8080/"
        },
        "id": "SO7kEi05hbGJ",
        "outputId": "051e8bfc-6aef-4fc2-cdae-4e1d28190696"
      },
      "execution_count": 23,
      "outputs": [
        {
          "output_type": "stream",
          "name": "stdout",
          "text": [
            "PMF at k=2 for Poisson(rate=3.0): 0.22404180765538775\n"
          ]
        }
      ]
    },
    {
      "cell_type": "code",
      "source": [
        "import matplotlib.pyplot as plt\n",
        "\n",
        "rate = 3.0\n",
        "k_values = list(range(0, 11))\n",
        "pmf_values = [poisson_pmf(k, rate) for k in k_values]\n",
        "\n",
        "plt.figure(figsize=(8, 6))\n",
        "plt.bar(k_values, pmf_values, color='blue', alpha=0.7, label=f\"λ={rate}\")\n",
        "plt.title(\"PMF of Poisson Distribution\")\n",
        "plt.xlabel(\"k (Number of Events)\")\n",
        "plt.ylabel(\"PMF\")\n",
        "plt.xticks(k_values)\n",
        "plt.grid(True, linestyle='--', alpha=0.5)\n",
        "plt.legend()\n",
        "plt.show()"
      ],
      "metadata": {
        "colab": {
          "base_uri": "https://localhost:8080/",
          "height": 564
        },
        "id": "NVFQEukfhjSw",
        "outputId": "c7ce929e-458f-4e10-e369-2a9cbb5e957a"
      },
      "execution_count": 24,
      "outputs": [
        {
          "output_type": "display_data",
          "data": {
            "text/plain": [
              "<Figure size 800x600 with 1 Axes>"
            ],
            "image/png": "[encoded data removed]"
          },
          "metadata": {}
        }
      ]
    },
    {
      "cell_type": "code",
      "source": [
        "# #Q.11 A company wants to test if a new website layout leads to a higher conversion rate (percentage of visitors\n",
        "# who make a purchase). They collect data from the old and new layouts to compare.\n",
        "\n",
        "\n",
        "# To generate the data use the following command:\n",
        "\n",
        "# ```python\n",
        "\n",
        "# import numpy as np\n",
        "\n",
        "# # 50 purchases out of 1000 visitors\n",
        "\n",
        "# old_layout = np.array([1] * 50 + [0] * 950)\n",
        "\n",
        "# # 70 purchases out of 1000 visitors\n",
        "\n",
        "# new_layout = np.array([1] * 70 + [0] * 930)\n",
        "\n",
        "#   ```\n",
        "\n",
        "# Apply z-test to find which layout is successful"
      ],
      "metadata": {
        "id": "fmWid0xdioq0"
      },
      "execution_count": 26,
      "outputs": []
    },
    {
      "cell_type": "code",
      "source": [
        "import numpy as np\n",
        "from statsmodels.stats.proportion import proportions_ztest\n",
        "\n",
        "old_layout = np.array([1] * 50 + [0] * 950)\n",
        "new_layout = np.array([1] * 70 + [0] * 930)\n",
        "\n",
        "successes = [old_layout.sum(), new_layout.sum()]\n",
        "n_trials = [len(old_layout), len(new_layout)]\n",
        "\n",
        "z_stat, p_value = proportions_ztest(successes, n_trials, alternative='larger')\n",
        "\n",
        "print(f\"Z-statistic: {z_stat:.4f}\")\n",
        "print(f\"P-value: {p_value:.4f}\")\n",
        "\n",
        "alpha = 0.05\n",
        "if p_value < alpha:\n",
        "    print(\"Reject the null hypothesis: The new layout leads to a higher conversion rate.\")\n",
        "else:\n",
        "    print(\"Fail to reject the null hypothesis: No evidence that the new layout is better.\")"
      ],
      "metadata": {
        "colab": {
          "base_uri": "https://localhost:8080/"
        },
        "id": "qvyv6SYmlkLr",
        "outputId": "becb9539-3afe-42f5-95ed-e7e85068432e"
      },
      "execution_count": 28,
      "outputs": [
        {
          "output_type": "stream",
          "name": "stdout",
          "text": [
            "Z-statistic: -1.8831\n",
            "P-value: 0.9702\n",
            "Fail to reject the null hypothesis: No evidence that the new layout is better.\n"
          ]
        }
      ]
    },
    {
      "cell_type": "code",
      "source": [
        "#Q.12 A tutoring service claims that its program improves students' exam scores. A sample of students who participated in the program was taken, and their scores before and after the program were recorded."
      ],
      "metadata": {
        "id": "oVu0mq-FllQh"
      },
      "execution_count": 29,
      "outputs": []
    },
    {
      "cell_type": "code",
      "source": [
        "# Use the below code to generate samples of respective arrays of marks:\n",
        "\n",
        "# ```python\n",
        "\n",
        "# before_program = np.array([75, 80, 85, 70, 90, 78, 92, 88, 82, 87])\n",
        "\n",
        "# after_program = np.array([80, 85, 90, 80, 92, 80, 95, 90, 85, 88])\n",
        "\n",
        "# ```\n",
        "\n",
        "# Use z-test to find if the claims made by tutor are true or false."
      ],
      "metadata": {
        "id": "5O_1f22Qn0UB"
      },
      "execution_count": 33,
      "outputs": []
    },
    {
      "cell_type": "code",
      "source": [
        "import numpy as np\n",
        "from statsmodels.stats.weightstats import ztest\n",
        "\n",
        "before_program = np.array([75, 80, 85, 70, 90, 78, 92, 88, 82, 87])\n",
        "after_program = np.array([80, 85, 90, 80, 92, 80, 95, 90, 85, 88])\n",
        "\n",
        "z_stat, p_value = ztest(after_program, before_program, alternative='larger')\n",
        "\n",
        "print(f\"Z-statistic: {z_stat:.4f}\")\n",
        "print(f\"P-value: {p_value:.4f}\")\n",
        "\n",
        "alpha = 0.05\n",
        "if p_value < alpha:\n",
        "    print(\"Reject the null hypothesis: The program improved the marks.\")\n",
        "else:\n",
        "    print(\"Fail to reject the null hypothesis: No significant improvement in marks.\")"
      ],
      "metadata": {
        "colab": {
          "base_uri": "https://localhost:8080/"
        },
        "id": "nIaJsUgqmhtc",
        "outputId": "119ee1f7-4f16-4eb8-867e-c1781d7e8e90"
      },
      "execution_count": 30,
      "outputs": [
        {
          "output_type": "stream",
          "name": "stdout",
          "text": [
            "Z-statistic: 1.3600\n",
            "P-value: 0.0869\n",
            "Fail to reject the null hypothesis: No significant improvement in marks.\n"
          ]
        }
      ]
    },
    {
      "cell_type": "code",
      "source": [
        "#Q.13 A pharmaceutical company wants to determine if a new drug is effective in reducing blood pressure. They conduct a study and record blood pressure measurements before and after administering the drug."
      ],
      "metadata": {
        "id": "EYfno6PsnHvY"
      },
      "execution_count": 31,
      "outputs": []
    },
    {
      "cell_type": "code",
      "source": [
        "# Use the below code to generate samples of respective arrays of blood pressure:\n",
        "\n",
        "\n",
        "# ```python\n",
        "\n",
        "# before_drug = np.array([145, 150, 140, 135, 155, 160, 152, 148, 130, 138])\n",
        "\n",
        "# after_drug = np.array([130, 140, 132, 128, 145, 148, 138, 136, 125, 130])\n",
        "\n",
        "#   ```\n",
        "\n",
        "\n",
        "# Implement z-test to find if the drug really works or not."
      ],
      "metadata": {
        "id": "PJPDusxznseg"
      },
      "execution_count": 32,
      "outputs": []
    },
    {
      "cell_type": "code",
      "source": [
        "import numpy as np\n",
        "from statsmodels.stats.weightstats import ztest\n",
        "\n",
        "before_drug = np.array([145, 150, 140, 135, 155, 160, 152, 148, 130, 138])\n",
        "after_drug = np.array([130, 140, 132, 128, 145, 148, 138, 136, 125, 130])\n",
        "\n",
        "z_stat, p_value = ztest(after_drug, before_drug, alternative='smaller')\n",
        "\n",
        "print(f\"Z-statistic: {z_stat:.4f}\")\n",
        "print(f\"P-value: {p_value:.4f}\")\n",
        "\n",
        "alpha = 0.05\n",
        "if p_value < alpha:\n",
        "    print(\"Reject the null hypothesis: The drug has reduced blood pressure.\")\n",
        "else:\n",
        "    print(\"Fail to reject the null hypothesis: No significant reduction in blood pressure.\")"
      ],
      "metadata": {
        "colab": {
          "base_uri": "https://localhost:8080/"
        },
        "id": "lNc80QzunwLm",
        "outputId": "71bd7eb3-e2b1-4058-f642-aef1b01f38a9"
      },
      "execution_count": 35,
      "outputs": [
        {
          "output_type": "stream",
          "name": "stdout",
          "text": [
            "Z-statistic: -2.6396\n",
            "P-value: 0.0042\n",
            "Reject the null hypothesis: The drug has reduced blood pressure.\n"
          ]
        }
      ]
    },
    {
      "cell_type": "code",
      "source": [
        "#Q.14 A customer service department claims that their average response time is less than 5 minutes. A sample of recent customer interactions was taken, and the response times were recorded."
      ],
      "metadata": {
        "id": "hP2v72JKoHoK"
      },
      "execution_count": 36,
      "outputs": []
    },
    {
      "cell_type": "code",
      "source": [
        "# Implement the below code to generate the array of response time:\n",
        "\n",
        "# ```python\n",
        "\n",
        "# response_times = np.array([4.3, 3.8, 5.1, 4.9, 4.7, 4.2, 5.2, 4.5, 4.6, 4.4])\n",
        "\n",
        "# ```\n",
        "\n",
        "# Implement z-test to find the claims made by customer service department are tru or false."
      ],
      "metadata": {
        "id": "rUVabQQroY61"
      },
      "execution_count": 37,
      "outputs": []
    },
    {
      "cell_type": "code",
      "source": [
        "import numpy as np\n",
        "from statsmodels.stats.weightstats import ztest\n",
        "\n",
        "response_times = np.array([4.3, 3.8, 5.1, 4.9, 4.7, 4.2, 5.2, 4.5, 4.6, 4.4])\n",
        "\n",
        "z_stat, p_value = ztest(response_times, value=5.0)\n",
        "\n",
        "print(f\"Z-statistic: {z_stat:.4f}\")\n",
        "print(f\"P-value: {p_value:.4f}\")\n",
        "\n",
        "alpha = 0.05\n",
        "if p_value < alpha:\n",
        "    print(\"Reject the null hypothesis: The average response time is different from 5.0 seconds.\")\n",
        "else:\n",
        "    print(\"Fail to reject the null hypothesis: No significant difference from 5.0 seconds.\")"
      ],
      "metadata": {
        "colab": {
          "base_uri": "https://localhost:8080/"
        },
        "id": "rPIHwqYmob8V",
        "outputId": "cfb5c657-4f11-4149-c6a9-2653285ee155"
      },
      "execution_count": 38,
      "outputs": [
        {
          "output_type": "stream",
          "name": "stdout",
          "text": [
            "Z-statistic: -3.1845\n",
            "P-value: 0.0015\n",
            "Reject the null hypothesis: The average response time is different from 5.0 seconds.\n"
          ]
        }
      ]
    },
    {
      "cell_type": "code",
      "source": [
        "#Q.15 A company is testing two different website layouts to see which one leads to higher click-through rates.Write a Python function to perform an A/B test analysis, including calculating the t-statistic, degrees of freedom, and p-value."
      ],
      "metadata": {
        "id": "EXZkQiMDoh01"
      },
      "execution_count": 39,
      "outputs": []
    },
    {
      "cell_type": "code",
      "source": [
        "# Use the following data:\n",
        "\n",
        "# ```python\n",
        "\n",
        "# layout_a_clicks = [28, 32, 33, 29, 31, 34, 30, 35, 36, 37]\n",
        "\n",
        "# layout_b_clicks = [40, 41, 38, 42, 39, 44, 43, 41, 45, 47]"
      ],
      "metadata": {
        "id": "h1Ue9ayEo0rO"
      },
      "execution_count": 40,
      "outputs": []
    },
    {
      "cell_type": "code",
      "source": [
        "# layout_a_clicks = [28, 32, 33, 29, 31, 34, 30, 35, 36, 37]\n",
        "# layout_b_clicks = [40, 41, 38, 42, 39, 44, 43, 41, 45, 47]"
      ],
      "metadata": {
        "id": "Li6BZ1jUo3lc"
      },
      "execution_count": 41,
      "outputs": []
    },
    {
      "cell_type": "code",
      "source": [
        "import numpy as np\n",
        "from statsmodels.stats.weightstats import ztest\n",
        "\n",
        "layout_a_clicks = [28, 32, 33, 29, 31, 34, 30, 35, 36, 37]\n",
        "layout_b_clicks = [40, 41, 38, 42, 39, 44, 43, 41, 45, 47]\n",
        "\n",
        "z_stat, p_value = ztest(layout_b_clicks, layout_a_clicks, alternative='two-sided')\n",
        "\n",
        "print(f\"Z-statistic: {z_stat:.4f}\")\n",
        "print(f\"P-value: {p_value:.4f}\")\n",
        "\n",
        "alpha = 0.05\n",
        "if p_value < alpha:\n",
        "    print(\"Reject the null hypothesis: There is a significant difference in the number of clicks between the two layouts.\")\n",
        "else:\n",
        "    print(\"Fail to reject the null hypothesis: No significant difference in the number of clicks between the two layouts.\")"
      ],
      "metadata": {
        "colab": {
          "base_uri": "https://localhost:8080/"
        },
        "id": "PVmDGEklo_P8",
        "outputId": "2a667736-8b54-4a16-e21a-d0c83f0717b0"
      },
      "execution_count": 42,
      "outputs": [
        {
          "output_type": "stream",
          "name": "stdout",
          "text": [
            "Z-statistic: 7.2981\n",
            "P-value: 0.0000\n",
            "Reject the null hypothesis: There is a significant difference in the number of clicks between the two layouts.\n"
          ]
        }
      ]
    },
    {
      "cell_type": "code",
      "source": [
        "#Q.16 A pharmaceutical company wants to determine if a new drug is more effective than an existing drug in reducing cholesterol levels. Create a program to analyze the clinical trial data and calculate the tstatistic and p-value for the treatment effect"
      ],
      "metadata": {
        "id": "226oqFrfpCv8"
      },
      "execution_count": 43,
      "outputs": []
    },
    {
      "cell_type": "code",
      "source": [
        "# Use the following data of cholestrol level:\n",
        "\n",
        "# ```python\n",
        "\n",
        "# existing_drug_levels = [180, 182, 175, 185, 178, 176, 172, 184, 179, 183]\n",
        "\n",
        "# new_drug_levels = [170, 172, 165, 168, 175, 173, 170, 178, 172, 176]"
      ],
      "metadata": {
        "id": "v9Lm5CGrpWp1"
      },
      "execution_count": 44,
      "outputs": []
    },
    {
      "cell_type": "code",
      "source": [
        "import numpy as np\n",
        "from statsmodels.stats.weightstats import ztest\n",
        "\n",
        "existing_drug_levels = [180, 182, 175, 185, 178, 176, 172, 184, 179, 183]\n",
        "new_drug_levels = [170, 172, 165, 168, 175, 173, 170, 178, 172, 176]\n",
        "\n",
        "z_stat, p_value = ztest(new_drug_levels, existing_drug_levels, alternative='smaller')\n",
        "\n",
        "print(f\"Z-statistic: {z_stat:.4f}\")\n",
        "print(f\"P-value: {p_value:.4f}\")\n",
        "\n",
        "alpha = 0.05\n",
        "if p_value < alpha:\n",
        "    print(\"Reject the null hypothesis: The new drug significantly lowers cholesterol levels compared to the existing drug.\")\n",
        "else:\n",
        "    print(\"Fail to reject the null hypothesis: No significant difference in cholesterol levels between the two drugs.\")"
      ],
      "metadata": {
        "colab": {
          "base_uri": "https://localhost:8080/"
        },
        "id": "l4EQqEzdpaCj",
        "outputId": "3666ec5b-d1c3-4cd7-f4d7-1b634628b513"
      },
      "execution_count": 46,
      "outputs": [
        {
          "output_type": "stream",
          "name": "stdout",
          "text": [
            "Z-statistic: -4.1405\n",
            "P-value: 0.0000\n",
            "Reject the null hypothesis: The new drug significantly lowers cholesterol levels compared to the existing drug.\n"
          ]
        }
      ]
    },
    {
      "cell_type": "code",
      "source": [
        "#Q.17 A school district introduces an educational intervention program to improve math scores. Write a Python function to analyze pre- and post-intervention test scores, calculating the t-statistic and p-value to determine if the intervention had a significant impact."
      ],
      "metadata": {
        "id": "zGgLi1Bvpt7b"
      },
      "execution_count": 47,
      "outputs": []
    },
    {
      "cell_type": "code",
      "source": [
        "# Use the following data of test score:\n",
        "\n",
        "\n",
        "#   ```python\n",
        "\n",
        "#   pre_intervention_scores = [80, 85, 90, 75, 88, 82, 92, 78, 85, 87]\n",
        "\n",
        "#   post_intervention_scores = [90, 92, 88, 92, 95, 91, 96, 93, 89, 93]"
      ],
      "metadata": {
        "id": "HEpMkQrMtDEO"
      },
      "execution_count": 48,
      "outputs": []
    },
    {
      "cell_type": "code",
      "source": [
        "import numpy as np\n",
        "from statsmodels.stats.weightstats import ztest\n",
        "\n",
        "pre_intervention_scores = [80, 85, 90, 75, 88, 82, 92, 78, 85, 87]\n",
        "post_intervention_scores = [90, 92, 88, 92, 95, 91, 96, 93, 89, 93]\n",
        "\n",
        "differences = np.array(post_intervention_scores) - np.array(pre_intervention_scores)\n",
        "\n",
        "z_stat, p_value = ztest(differences, value=0, alternative='larger')\n",
        "\n",
        "print(f\"Z-statistic: {z_stat:.4f}\")\n",
        "print(f\"P-value: {p_value:.4f}\")\n",
        "\n",
        "alpha = 0.05\n",
        "if p_value < alpha:\n",
        "    print(\"Reject the null hypothesis: The intervention significantly improved test scores.\")\n",
        "else:\n",
        "    print(\"Fail to reject the null hypothesis: No significant improvement in test scores due to the intervention.\")"
      ],
      "metadata": {
        "colab": {
          "base_uri": "https://localhost:8080/"
        },
        "id": "Ud4Q-AiStsr1",
        "outputId": "178841bc-cc11-4063-ad37-cf7f544c2b3b"
      },
      "execution_count": 49,
      "outputs": [
        {
          "output_type": "stream",
          "name": "stdout",
          "text": [
            "Z-statistic: 4.4284\n",
            "P-value: 0.0000\n",
            "Reject the null hypothesis: The intervention significantly improved test scores.\n"
          ]
        }
      ]
    },
    {
      "cell_type": "code",
      "source": [
        "#Q.18 An HR department wants to investigate if there's a gender-based salary gap within the company. Develop a program to analyze salary data, calculate the t-statistic, and determine if there's a statistically significant difference between the average salaries of male and female employees."
      ],
      "metadata": {
        "id": "1_I0PQWnweVJ"
      },
      "execution_count": 50,
      "outputs": []
    },
    {
      "cell_type": "code",
      "source": [
        "# Use the below code to generate synthetic data:\n",
        "\n",
        "\n",
        "# ```python\n",
        "\n",
        "# # Generate synthetic salary data for male and female employees\n",
        "\n",
        "# np.random.seed(0)  # For reproducibility\n",
        "\n",
        "# male_salaries = np.random.normal(loc=50000, scale=10000, size=20)\n",
        "\n",
        "# female_salaries = np.random.normal(loc=55000, scale=9000, size=20)"
      ],
      "metadata": {
        "id": "zOhK0gXkwwDg"
      },
      "execution_count": 51,
      "outputs": []
    },
    {
      "cell_type": "code",
      "source": [
        "import numpy as np\n",
        "from statsmodels.stats.weightstats import ztest\n",
        "\n",
        "np.random.seed(0)\n",
        "male_salaries = np.random.normal(loc=50000, scale=10000, size=20)\n",
        "female_salaries = np.random.normal(loc=55000, scale=9000, size=20)\n",
        "\n",
        "z_stat, p_value = ztest(male_salaries, female_salaries, alternative='two-sided')\n",
        "\n",
        "print(f\"Z-statistic: {z_stat:.4f}\")\n",
        "print(f\"P-value: {p_value:.4f}\")\n",
        "\n",
        "alpha = 0.05\n",
        "if p_value < alpha:\n",
        "    print(\"Reject the null hypothesis: There is a significant difference in salaries between male and female employees.\")\n",
        "else:\n",
        "    print(\"Fail to reject the null hypothesis: No significant difference in salaries between male and female employees.\")"
      ],
      "metadata": {
        "colab": {
          "base_uri": "https://localhost:8080/"
        },
        "id": "HkuEohXpw4E_",
        "outputId": "3e79376e-0398-4b39-8335-223d6538188f"
      },
      "execution_count": 52,
      "outputs": [
        {
          "output_type": "stream",
          "name": "stdout",
          "text": [
            "Z-statistic: 0.0611\n",
            "P-value: 0.9512\n",
            "Fail to reject the null hypothesis: No significant difference in salaries between male and female employees.\n"
          ]
        }
      ]
    },
    {
      "cell_type": "code",
      "source": [
        "#Q.19 A manufacturer produces two different versions of a product and wants to compare their quality scores.Create a Python function to analyze quality assessment data, calculate the t-statistic, and decide whether there's a significant difference in quality between the two versions."
      ],
      "metadata": {
        "id": "macKXsMWxIYw"
      },
      "execution_count": 53,
      "outputs": []
    },
    {
      "cell_type": "code",
      "source": [
        "# ```python\n",
        "\n",
        "# version1_scores = [85, 88, 82, 89, 87, 84, 90, 88, 85, 86, 91, 83, 87, 84, 89, 86, 84, 88, 85, 86, 89, 90, 87, 88, 85]\n",
        "\n",
        "# version2_scores = [80, 78, 83, 81, 79, 82, 76, 80, 78, 81, 77, 82, 80, 79, 82, 79, 80, 81, 79, 82, 79, 78, 80, 81, 82]"
      ],
      "metadata": {
        "id": "QRaLH72s3o_F"
      },
      "execution_count": 54,
      "outputs": []
    },
    {
      "cell_type": "code",
      "source": [
        "import numpy as np\n",
        "from statsmodels.stats.weightstats import ztest\n",
        "\n",
        "version1_scores = [85, 88, 82, 89, 87, 84, 90, 88, 85, 86, 91, 83, 87, 84, 89, 86, 84, 88, 85, 86, 89, 90, 87, 88, 85]\n",
        "version2_scores = [80, 78, 83, 81, 79, 82, 76, 80, 78, 81, 77, 82, 80, 79, 82, 79, 80, 81, 79, 82, 79, 78, 80, 81, 82]\n",
        "\n",
        "z_stat, p_value = ztest(version1_scores, version2_scores, alternative='two-sided')\n",
        "\n",
        "print(f\"Z-statistic: {z_stat:.4f}\")\n",
        "print(f\"P-value: {p_value:.4f}\")\n",
        "\n",
        "alpha = 0.05\n",
        "if p_value < alpha:\n",
        "    print(\"Reject the null hypothesis: There is a significant difference between the two versions' scores.\")\n",
        "else:\n",
        "    print(\"Fail to reject the null hypothesis: No significant difference between the two versions' scores.\")"
      ],
      "metadata": {
        "colab": {
          "base_uri": "https://localhost:8080/"
        },
        "id": "6mJoOerk3tur",
        "outputId": "6e207650-b805-4863-9df6-a3ddd21f2960"
      },
      "execution_count": 56,
      "outputs": [
        {
          "output_type": "stream",
          "name": "stdout",
          "text": [
            "Z-statistic: 11.3258\n",
            "P-value: 0.0000\n",
            "Reject the null hypothesis: There is a significant difference between the two versions' scores.\n"
          ]
        }
      ]
    },
    {
      "cell_type": "code",
      "source": [
        "#Q.20 A restaurant chain collects customer satisfaction scores for two different branches. Write a program to analyze the scores, calculate the t-statistic, and determine if there's a statistically significant difference in customer satisfaction between the branches."
      ],
      "metadata": {
        "id": "SjXtAkhJ34eT"
      },
      "execution_count": 57,
      "outputs": []
    },
    {
      "cell_type": "code",
      "source": [
        "# Use the below data of scores:\n",
        "\n",
        "#   ```python\n",
        "\n",
        "# branch_a_scores = [4, 5, 3, 4, 5, 4, 5, 3, 4, 4, 5, 4, 4, 3, 4, 5, 5, 4, 3, 4, 5, 4, 3, 5, 4, 4, 5, 3, 4, 5, 4]\n",
        "\n",
        "# branch_b_scores = [3, 4, 2, 3, 4, 3, 4, 2, 3, 3, 4, 3, 3, 2, 3, 4, 4, 3, 2, 3, 4, 3, 2, 4, 3, 3, 4, 2, 3, 4, 3]"
      ],
      "metadata": {
        "id": "25UkU2CZ4Gxr"
      },
      "execution_count": 58,
      "outputs": []
    },
    {
      "cell_type": "code",
      "source": [
        "import numpy as np\n",
        "from statsmodels.stats.weightstats import ztest\n",
        "\n",
        "branch_a_scores = [4, 5, 3, 4, 5, 4, 5, 3, 4, 4, 5, 4, 4, 3, 4, 5, 5, 4, 3, 4, 5, 4, 3, 5, 4, 4, 5, 3, 4, 5, 4]\n",
        "branch_b_scores = [3, 4, 2, 3, 4, 3, 4, 2, 3, 3, 4, 3, 3, 2, 3, 4, 4, 3, 2, 3, 4, 3, 2, 4, 3, 3, 4, 2, 3, 4, 3]\n",
        "\n",
        "z_stat, p_value = ztest(branch_a_scores, branch_b_scores, alternative='two-sided')\n",
        "\n",
        "print(f\"Z-statistic: {z_stat:.4f}\")\n",
        "print(f\"P-value: {p_value:.4f}\")\n",
        "\n",
        "alpha = 0.05\n",
        "if p_value < alpha:\n",
        "    print(\"Reject the null hypothesis: There is a significant difference between the two branches' scores.\")\n",
        "else:\n",
        "    print(\"Fail to reject the null hypothesis: No significant difference between the two branches' scores.\")"
      ],
      "metadata": {
        "colab": {
          "base_uri": "https://localhost:8080/"
        },
        "id": "43FKBwz64KjH",
        "outputId": "b628aff7-4b76-4e4d-deaa-87bb0d6c1c18"
      },
      "execution_count": 60,
      "outputs": [
        {
          "output_type": "stream",
          "name": "stdout",
          "text": [
            "Z-statistic: 5.4801\n",
            "P-value: 0.0000\n",
            "Reject the null hypothesis: There is a significant difference between the two branches' scores.\n"
          ]
        }
      ]
    },
    {
      "cell_type": "code",
      "source": [
        "#Q.21 A political analyst wants to determine if there is a significant association between age groups and voter preferences (Candidate A or Candidate B). They collect data from a sample of 500 voters and classify them into different age groups and candidate preferences. Perform a Chi-Square test to determine if there is a significant association between age groups and voter preferences."
      ],
      "metadata": {
        "id": "5_e0Dz0O4V9a"
      },
      "execution_count": 61,
      "outputs": []
    },
    {
      "cell_type": "code",
      "source": [
        "# Use the below code to generate data:\n",
        "\n",
        "# ```python\n",
        "\n",
        "# np.random.seed(0)\n",
        "\n",
        "# age_groups = np.random.choice([ 18 30 , 31 50 , 51+', 51+'], size=30)\n",
        "\n",
        "# voter_preferences = np.random.choice(['Candidate A', 'Candidate B'], size=30)"
      ],
      "metadata": {
        "id": "nJmEpJ7_4xi7"
      },
      "execution_count": 62,
      "outputs": []
    },
    {
      "cell_type": "code",
      "source": [
        "import numpy as np\n",
        "import pandas as pd\n",
        "from scipy.stats import chi2_contingency\n",
        "\n",
        "np.random.seed(0)\n",
        "\n",
        "age_groups = np.random.choice(['18-30', '31-50', '51+'], size=30)\n",
        "voter_preferences = np.random.choice(['Candidate A', 'Candidate B'], size=30)\n",
        "\n",
        "contingency_table = pd.crosstab(age_groups, voter_preferences)\n",
        "print(\"Contingency Table:\")\n",
        "print(contingency_table)\n",
        "\n",
        "chi2_stat, p_value, dof, expected = chi2_contingency(contingency_table)\n",
        "\n",
        "print(\"\\nChi-Square Test Results:\")\n",
        "print(f\"Chi-Square Statistic: {chi2_stat:.4f}\")\n",
        "print(f\"P-value: {p_value:.4f}\")\n",
        "print(f\"Degrees of Freedom: {dof}\")\n",
        "print(\"\\nExpected Frequencies:\")\n",
        "print(expected)\n",
        "\n",
        "alpha = 0.05\n",
        "if p_value < alpha:\n",
        "    print(\"\\nReject the null hypothesis: There is a significant association between age groups and voter preferences.\")\n",
        "else:\n",
        "    print(\"\\nFail to reject the null hypothesis: No significant association between age groups and voter preferences.\")"
      ],
      "metadata": {
        "colab": {
          "base_uri": "https://localhost:8080/"
        },
        "id": "-aFAHTAO40iq",
        "outputId": "fa78e697-92cb-41df-d6b0-61a858b83438"
      },
      "execution_count": 64,
      "outputs": [
        {
          "output_type": "stream",
          "name": "stdout",
          "text": [
            "Contingency Table:\n",
            "col_0  Candidate A  Candidate B\n",
            "row_0                          \n",
            "18-30            4            8\n",
            "31-50            6            5\n",
            "51+              4            3\n",
            "\n",
            "Chi-Square Test Results:\n",
            "Chi-Square Statistic: 1.4402\n",
            "P-value: 0.4867\n",
            "Degrees of Freedom: 2\n",
            "\n",
            "Expected Frequencies:\n",
            "[[5.6        6.4       ]\n",
            " [5.13333333 5.86666667]\n",
            " [3.26666667 3.73333333]]\n",
            "\n",
            "Fail to reject the null hypothesis: No significant association between age groups and voter preferences.\n"
          ]
        }
      ]
    },
    {
      "cell_type": "code",
      "source": [
        "#Q.22 A company conducted a customer satisfaction survey to determine if there is a significant relationship between product satisfaction levels (Satisfied, Neutral, Dissatisfied) and the region where customers are located (East, West, North, South). The survey data is summarized in a contingency table. Conduct a ChiSquare test to determine if there is a significant relationship between product satisfaction levels and customer regions."
      ],
      "metadata": {
        "id": "3CuwnHrK49u5"
      },
      "execution_count": 65,
      "outputs": []
    },
    {
      "cell_type": "code",
      "source": [
        "# Sample data:\n",
        "\n",
        "# ```python\n",
        "\n",
        "# #Sample data: Product satisfaction levels (rows) vs. Customer regions (columns)\n",
        "\n",
        "# data = np.array([[50, 30, 40, 20], [30, 40, 30, 50], [20, 30, 40, 30]])"
      ],
      "metadata": {
        "id": "5CVV6mC-5R7L"
      },
      "execution_count": 66,
      "outputs": []
    },
    {
      "cell_type": "code",
      "source": [
        "import numpy as np\n",
        "from scipy.stats import chi2_contingency\n",
        "\n",
        "data = np.array([[50, 30, 40, 20],\n",
        "                 [30, 40, 30, 50],\n",
        "                 [20, 30, 40, 30]])\n",
        "\n",
        "chi2_stat, p_value, dof, expected = chi2_contingency(data)\n",
        "\n",
        "print(\"Contingency Table:\")\n",
        "print(data)\n",
        "\n",
        "print(\"\\nChi-Square Test Results:\")\n",
        "print(f\"Chi-Square Statistic: {chi2_stat:.4f}\")\n",
        "print(f\"P-value: {p_value:.4f}\")\n",
        "print(f\"Degrees of Freedom: {dof}\")\n",
        "print(\"\\nExpected Frequencies:\")\n",
        "print(expected)\n",
        "\n",
        "alpha = 0.05\n",
        "if p_value < alpha:\n",
        "    print(\"\\nReject the null hypothesis: There is a significant association between satisfaction levels and regions.\")\n",
        "else:\n",
        "    print(\"\\nFail to reject the null hypothesis: No significant association between satisfaction levels and regions.\")"
      ],
      "metadata": {
        "colab": {
          "base_uri": "https://localhost:8080/"
        },
        "id": "FoxQ0Oaa5U2p",
        "outputId": "e0264cba-5dab-45ea-f6a3-6564835132e7"
      },
      "execution_count": 68,
      "outputs": [
        {
          "output_type": "stream",
          "name": "stdout",
          "text": [
            "Contingency Table:\n",
            "[[50 30 40 20]\n",
            " [30 40 30 50]\n",
            " [20 30 40 30]]\n",
            "\n",
            "Chi-Square Test Results:\n",
            "Chi-Square Statistic: 27.7771\n",
            "P-value: 0.0001\n",
            "Degrees of Freedom: 6\n",
            "\n",
            "Expected Frequencies:\n",
            "[[34.14634146 34.14634146 37.56097561 34.14634146]\n",
            " [36.58536585 36.58536585 40.24390244 36.58536585]\n",
            " [29.26829268 29.26829268 32.19512195 29.26829268]]\n",
            "\n",
            "Reject the null hypothesis: There is a significant association between satisfaction levels and regions.\n"
          ]
        }
      ]
    },
    {
      "cell_type": "code",
      "source": [
        "#Q.23 A company implemented an employee training program to improve job performance (Effective, Neutral, Ineffective). After the training, they collected data from a sample of employees and classified them based on their job performance before and after the training. Perform a Chi-Square test to determine if there is a significant difference between job performance levels before and after the training."
      ],
      "metadata": {
        "id": "ls5hbh2O5eSB"
      },
      "execution_count": 69,
      "outputs": []
    },
    {
      "cell_type": "code",
      "source": [
        "# Sample data:\n",
        "\n",
        "# ```python\n",
        "\n",
        "# # Sample data: Job performance levels before (rows) and after (columns) training\n",
        "\n",
        "# data = np.array([[50, 30, 20], [30, 40, 30], [20, 30, 40]])"
      ],
      "metadata": {
        "id": "oEDuVn8854_2"
      },
      "execution_count": 70,
      "outputs": []
    },
    {
      "cell_type": "code",
      "source": [
        "import numpy as np\n",
        "from scipy.stats import chi2_contingency\n",
        "\n",
        "data = np.array([[50, 30, 20],\n",
        "                 [30, 40, 30],\n",
        "                 [20, 30, 40]])\n",
        "\n",
        "chi2_stat, p_value, dof, expected = chi2_contingency(data)\n",
        "\n",
        "print(\"Contingency Table:\")\n",
        "print(data)\n",
        "\n",
        "print(\"\\nChi-Square Test Results:\")\n",
        "print(f\"Chi-Square Statistic: {chi2_stat:.4f}\")\n",
        "print(f\"P-value: {p_value:.4f}\")\n",
        "print(f\"Degrees of Freedom: {dof}\")\n",
        "print(\"\\nExpected Frequencies:\")\n",
        "print(expected)\n",
        "\n",
        "alpha = 0.05\n",
        "if p_value < alpha:\n",
        "    print(\"\\nReject the null hypothesis: There is a significant association between performance levels before and after training.\")\n",
        "else:\n",
        "    print(\"\\nFail to reject the null hypothesis: No significant association between performance levels before and after training.\")"
      ],
      "metadata": {
        "colab": {
          "base_uri": "https://localhost:8080/"
        },
        "id": "aZb6ndL-56bQ",
        "outputId": "76891b26-7030-4f0c-9589-c3525cb1213b"
      },
      "execution_count": 72,
      "outputs": [
        {
          "output_type": "stream",
          "name": "stdout",
          "text": [
            "Contingency Table:\n",
            "[[50 30 20]\n",
            " [30 40 30]\n",
            " [20 30 40]]\n",
            "\n",
            "Chi-Square Test Results:\n",
            "Chi-Square Statistic: 22.1617\n",
            "P-value: 0.0002\n",
            "Degrees of Freedom: 4\n",
            "\n",
            "Expected Frequencies:\n",
            "[[34.48275862 34.48275862 31.03448276]\n",
            " [34.48275862 34.48275862 31.03448276]\n",
            " [31.03448276 31.03448276 27.93103448]]\n",
            "\n",
            "Reject the null hypothesis: There is a significant association between performance levels before and after training.\n"
          ]
        }
      ]
    },
    {
      "cell_type": "code",
      "source": [
        "#Q 24. A company produces three different versions of a product: Standard, Premium, and Deluxe. The company wants to determine if there is a significant difference in customer satisfaction scores among the three product versions. They conducted a survey and collected customer satisfaction scores for each version from a random sample of customers. Perform an ANOVA test to determine if there is a significant difference in customer satisfaction scores."
      ],
      "metadata": {
        "id": "r0LRJWwV6BrA"
      },
      "execution_count": 73,
      "outputs": []
    },
    {
      "cell_type": "code",
      "source": [
        "  # Use the following data:\n",
        "\n",
        "  # ```python\n",
        "\n",
        "  # # Sample data: Customer satisfaction scores for each product version\n",
        "\n",
        "  # standard_scores = [80, 85, 90, 78, 88, 82, 92, 78, 85, 87]\n",
        "\n",
        "  # premium_scores = [90, 92, 88, 92, 95, 91, 96, 93, 89, 93]\n",
        "\n",
        "  # deluxe_scores = [95, 98, 92, 97, 96, 94, 98, 97, 92, 99]"
      ],
      "metadata": {
        "id": "h6o7AZby6cfS"
      },
      "execution_count": 74,
      "outputs": []
    },
    {
      "cell_type": "code",
      "source": [
        "from scipy.stats import f_oneway\n",
        "\n",
        "standard_scores = [80, 85, 90, 78, 88, 82, 92, 78, 85, 87]\n",
        "premium_scores = [90, 92, 88, 92, 95, 91, 96, 93, 89, 93]\n",
        "deluxe_scores = [95, 98, 92, 97, 96, 94, 98, 97, 92, 99]\n",
        "\n",
        "f_stat, p_value = f_oneway(standard_scores, premium_scores, deluxe_scores)\n",
        "\n",
        "print(\"One-Way ANOVA Results:\")\n",
        "print(f\"F-Statistic: {f_stat:.4f}\")\n",
        "print(f\"P-value: {p_value:.4f}\")\n",
        "\n",
        "alpha = 0.05\n",
        "if p_value < alpha:\n",
        "    print(\"\\nReject the null hypothesis: There is a significant difference in customer satisfaction scores among the product versions.\")\n",
        "else:\n",
        "    print(\"\\nFail to reject the null hypothesis: No significant difference in customer satisfaction scores among the product versions.\")"
      ],
      "metadata": {
        "colab": {
          "base_uri": "https://localhost:8080/"
        },
        "id": "WA6Ksuic6eIf",
        "outputId": "4a7491e8-9c0f-4cca-ba52-43fda2f89ba1"
      },
      "execution_count": 75,
      "outputs": [
        {
          "output_type": "stream",
          "name": "stdout",
          "text": [
            "One-Way ANOVA Results:\n",
            "F-Statistic: 27.0356\n",
            "P-value: 0.0000\n",
            "\n",
            "Reject the null hypothesis: There is a significant difference in customer satisfaction scores among the product versions.\n"
          ]
        }
      ]
    },
    {
      "cell_type": "code",
      "source": [],
      "metadata": {
        "id": "iXLH8JIc6p6X"
      },
      "execution_count": null,
      "outputs": []
    }
  ]
}